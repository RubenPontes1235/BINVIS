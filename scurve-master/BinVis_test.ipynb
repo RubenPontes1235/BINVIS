{
 "cells": [
  {
   "cell_type": "code",
   "execution_count": 2,
   "id": "0fbcaf92-db72-4f23-ba6a-57e5bfb750f8",
   "metadata": {},
   "outputs": [],
   "source": [
    "#!/usr/bin/env python\n",
    "import os.path, math, string, sys\n",
    "\n",
    "import scurve\n",
    "from scurve import progress, utils, draw\n",
    "from PIL import Image, ImageDraw"
   ]
  },
  {
   "cell_type": "code",
   "execution_count": null,
   "id": "b7f2bebe-6b98-41aa-b90c-75fb30da2382",
   "metadata": {},
   "outputs": [],
   "source": []
  },
  {
   "cell_type": "code",
   "execution_count": 3,
   "id": "47c74824-cf30-4fe6-96a9-483cc60e0e38",
   "metadata": {},
   "outputs": [],
   "source": [
    "class _Color:\n",
    "    def __init__(self, data, block):\n",
    "        self.data, self.block = data, block\n",
    "        s = list(set(data))\n",
    "        s.sort()\n",
    "        self.symbol_map = {v : i for (i, v) in enumerate(s)}\n",
    "\n",
    "    def __len__(self):\n",
    "        return len(self.data)\n",
    "\n",
    "    def point(self, x):\n",
    "        if self.block and (self.block[0]<=x<self.block[1]):\n",
    "            return self.block[2]\n",
    "        else:\n",
    "            return self.getPoint(x)"
   ]
  },
  {
   "cell_type": "code",
   "execution_count": 4,
   "id": "14d1320a-6498-4e50-9d09-efb796336d16",
   "metadata": {},
   "outputs": [],
   "source": [
    "class ColorGradient(_Color):\n",
    "    def getPoint(self, x):\n",
    "        c = ord(self.data[x])/255.0\n",
    "        return [\n",
    "            int(255*c),\n",
    "            int(255*c),\n",
    "            int(255*c)\n",
    "        ]"
   ]
  },
  {
   "cell_type": "code",
   "execution_count": 5,
   "id": "f0aee2eb-d0c8-48df-a544-cd35a85d18ad",
   "metadata": {},
   "outputs": [],
   "source": [
    "class ColorHilbert(_Color):\n",
    "    def __init__(self, data, block):\n",
    "        _Color.__init__(self, data, block)\n",
    "        self.csource = scurve.fromSize(\"hilbert\", 3, 256**3)\n",
    "        self.step = len(self.csource)/float(len(self.symbol_map))\n",
    "\n",
    "    def getPoint(self, x):\n",
    "        c = self.symbol_map[self.data[x]]\n",
    "        return self.csource.point(int(c*self.step))"
   ]
  },
  {
   "cell_type": "code",
   "execution_count": 6,
   "id": "b5c852c4-82f8-4bb7-942c-813bfd82567f",
   "metadata": {},
   "outputs": [],
   "source": [
    "class ColorClass(_Color):\n",
    "    def getPoint(self, x):\n",
    "        c = ord(self.data[x])\n",
    "        if c == 0:\n",
    "            return [0, 0, 0]\n",
    "        elif c == 255:\n",
    "            return [255, 255, 255]\n",
    "        elif chr(c) in string.printable:\n",
    "            return [55, 126, 184]\n",
    "        return [228, 26, 28]"
   ]
  },
  {
   "cell_type": "code",
   "execution_count": 7,
   "id": "16e38b1b-21af-4b4c-abc2-b84e4fdac75c",
   "metadata": {},
   "outputs": [],
   "source": [
    "class ColorEntropy(_Color):\n",
    "    def getPoint(self, x):\n",
    "        e = utils.entropy(self.data, 32, x, len(self.symbol_map))\n",
    "        # http://www.wolframalpha.com/input/?i=plot+%284%28x-0.5%29-4%28x-0.5%29**2%29**4+from+0.5+to+1\n",
    "        def curve(v):\n",
    "            f = (4*v - 4*v**2)**4\n",
    "            f = max(f, 0)\n",
    "            return f\n",
    "        r = curve(e-0.5) if e > 0.5 else 0\n",
    "        b = e**2\n",
    "        return [\n",
    "            int(255*r),\n",
    "            0,\n",
    "            int(255*b)\n",
    "        ]"
   ]
  },
  {
   "cell_type": "code",
   "execution_count": 8,
   "id": "ea64199d-3919-41cc-9888-e436bd5162b8",
   "metadata": {},
   "outputs": [],
   "source": [
    "def drawmap_unrolled(map, size, csource, name, prog):\n",
    "    prog.set_target((size**2)*4)\n",
    "    map = scurve.fromSize(map, 2, size**2)\n",
    "    c = Image.new(\"RGB\", (size, size*4))\n",
    "    cd = ImageDraw.Draw(c)\n",
    "    step = len(csource)/float(len(map)*4)\n",
    "\n",
    "    sofar = 0\n",
    "    for quad in range(4):\n",
    "        for i, p in enumerate(map):\n",
    "            off = (i + (quad * size**2))\n",
    "            color = csource.point(\n",
    "                        int(off * step)\n",
    "                    )\n",
    "            x, y = tuple(p)\n",
    "            cd.point(\n",
    "                (x, y + (size * quad)),\n",
    "                fill=tuple(color)\n",
    "            )\n",
    "            if not sofar%100:\n",
    "                prog.tick(sofar)\n",
    "            sofar += 1\n",
    "    c.save(name)"
   ]
  },
  {
   "cell_type": "code",
   "execution_count": 9,
   "id": "36c61110-e041-408c-99b2-0dbeb7061ada",
   "metadata": {},
   "outputs": [],
   "source": [
    "def drawmap_square(map, size, csource, name, prog):\n",
    "    prog.set_target((size**2))\n",
    "    map = scurve.fromSize(map, 2, size**2)\n",
    "    c = Image.new(\"RGB\", map.dimensions())\n",
    "    cd = ImageDraw.Draw(c)\n",
    "    step = len(csource)/float(len(map))\n",
    "    for i, p in enumerate(map):\n",
    "        color = csource.point(int(i*step))\n",
    "        cd.point(tuple(p), fill=tuple(color))\n",
    "        if not i%100:\n",
    "            prog.tick(i)\n",
    "    c.save(name)"
   ]
  },
  {
   "cell_type": "code",
   "execution_count": 10,
   "id": "bb5bd611-2766-42f2-9345-300ce2bed4c9",
   "metadata": {},
   "outputs": [],
   "source": [
    "def main():\n",
    "    from optparse import OptionParser, OptionGroup\n",
    "    parser = OptionParser(\n",
    "                usage = \"%prog [options] infile [output]\",\n",
    "                version=\"%prog 0.1\",\n",
    "            )\n",
    "    parser.add_option(\n",
    "        \"-b\", \"--block\", action=\"store\",\n",
    "        dest=\"block\", default=None,\n",
    "        help=\"Mark a block of data with a specified color. Format: hexstartaddr:hexendaddr[:hexcolor]\"\n",
    "    )\n",
    "    parser.add_option(\n",
    "        \"-c\", \"--color\", action=\"store\",\n",
    "        type=\"choice\", dest=\"color\", default=\"class\",\n",
    "        choices=[\"class\", \"hilbert\", \"entropy\", \"gradient\"],\n",
    "        help=\"Color map.\"\n",
    "    )\n",
    "    parser.add_option(\n",
    "        \"-m\", \"--map\", action=\"store\",\n",
    "        type=\"choice\", dest=\"map\", default=\"hilbert\",\n",
    "        choices=sorted(scurve.curveMap.keys()),\n",
    "        help=\"Pixel layout map. Can be any supported curve.\"\n",
    "    )\n",
    "    parser.add_option(\n",
    "        \"-n\", \"--namesuffix\", action=\"store\",\n",
    "        type=\"str\", dest=\"suffix\", default=\"\",\n",
    "        help=\"Suffix for generated file names. Ignored if destination is specified.\"\n",
    "    )\n",
    "    parser.add_option(\n",
    "        \"-p\", \"--progress\", action=\"store_true\", default=False,\n",
    "        dest=\"progress\",\n",
    "        help=\"Don't show progress bar - print the destination file name.\"\n",
    "    )\n",
    "    parser.add_option(\n",
    "        \"-s\", \"--size\", action=\"store\",\n",
    "        type=\"int\", dest=\"size\", default=256,\n",
    "        help=\"Image width in pixels.\"\n",
    "    )\n",
    "    parser.add_option(\n",
    "        \"-t\", \"--type\", type=\"choice\",\n",
    "        dest=\"type\", default=\"unrolled\",\n",
    "        choices=[\"unrolled\", \"square\"],\n",
    "        help=\"Image aspect ratio - square (1x1) or unrolled (1x4)\"\n",
    "    )\n",
    "    parser.add_option(\n",
    "        \"-q\", \"--quiet\", action=\"store_true\",\n",
    "        dest=\"quiet\", default=False\n",
    "    )\n",
    "    options, args = parser.parse_args()\n",
    "    if len(args) not in [1, 2]:\n",
    "        parser.error(\"Please specify input and output file.\")\n",
    "\n",
    "    d = open(args[0], 'r').read() #Gets the input file path\n",
    "    if len(args) == 2: #If input file path and output file path is provided => dest = output file path\n",
    "        dst = args[1]\n",
    "    else:\n",
    "        base = os.path.basename(args[0]) #If not, output file = basename(input_file).suffix(default = \"\").png\n",
    "        if \".\" in base:\n",
    "            base, _ = base.rsplit(\".\", 1)\n",
    "        dst = base + options.suffix + \".png\"\n",
    "\n",
    "    if os.path.exists(dst) and len(args) < 2: #If file with the output name exists, verify if the user wants to override it \n",
    "        print(\"Refusing to over-write '%s'. Specify explicitly if you really want to do this.\"%dst, file=sys.stderr)\n",
    "        sys.exit(1)\n",
    "\n",
    "    block = None#Not needed\n",
    "    if options.block:\n",
    "        parts = options.block.split(\":\")\n",
    "        if len(parts) not in [2, 3]:\n",
    "            raise ValueError(\"Invalid block specification.\")\n",
    "        s, e = int(parts[0], 16), int(parts[1], 16)\n",
    "        if len(parts) == 3:\n",
    "            c = draw.parseColor(parts[2])\n",
    "        else:\n",
    "            c = [255, 0, 0]\n",
    "        block = (s, e, c)\n",
    "\n",
    "    if options.color == \"class\":\n",
    "        csource = ColorClass(d, block)\n",
    "    elif options.color == \"hilbert\":\n",
    "        csource = ColorHilbert(d, block)\n",
    "    elif options.color == \"gradient\":\n",
    "        csource = ColorGradient(d, block)\n",
    "    else:\n",
    "        csource = ColorEntropy(d, block)\n",
    "\n",
    "\n",
    "    if options.progress:\n",
    "        print(dst)\n",
    "\n",
    "    if options.quiet or options.progress:\n",
    "        prog = progress.Dummy()\n",
    "    else:\n",
    "        prog = progress.Progress(None)\n",
    "\n",
    "\n",
    "    if options.type == \"unrolled\":\n",
    "        drawmap_unrolled(options.map, options.size, csource, dst, prog)\n",
    "    elif options.type == \"square\":\n",
    "        drawmap_square(options.map, options.size, csource, dst, prog)\n",
    "    prog.clear()"
   ]
  },
  {
   "cell_type": "markdown",
   "id": "d448d034-8e43-4f80-9d41-f71a3ae527c9",
   "metadata": {},
   "source": [
    "### Find bug / Debugging"
   ]
  },
  {
   "cell_type": "code",
   "execution_count": 233,
   "id": "015ad432-22b0-4f50-89cb-646d2a511f7d",
   "metadata": {},
   "outputs": [],
   "source": [
    "#Set arguments required\n",
    "map1 = \"hilbert\"\n",
    "size = 128\n",
    "d = '/Users/joao.ferreira/Documents/Anaconda-jupyter/archive/training/NotPhish/0_17track_net.html'\n",
    "block = None\n",
    "csource = ColorHilbert(d, block) # problema\n",
    "base = os.path.basename('/Users/joao.ferreira/Documents/Anaconda-jupyter/archive/training/NotPhish/0_17track_net.html')\n",
    "if \".\" in base:\n",
    "    base, _ = base.rsplit(\".\", 1)\n",
    "dst = base + \"\" + \".png\"\n",
    "prog = progress.Progress(None)"
   ]
  },
  {
   "cell_type": "code",
   "execution_count": null,
   "id": "824f4a6d-a3e7-4d37-94ed-4669b79a49fa",
   "metadata": {},
   "outputs": [],
   "source": []
  },
  {
   "cell_type": "code",
   "execution_count": 232,
   "id": "2cb7b2a7-408c-4c35-962f-67e077f948f1",
   "metadata": {
    "collapsed": true,
    "jupyter": {
     "outputs_hidden": true
    },
    "tags": []
   },
   "outputs": [
    {
     "ename": "TypeError",
     "evalue": "unsupported operand type(s) for >>: 'float' and 'int'",
     "output_type": "error",
     "traceback": [
      "\u001b[0;31m---------------------------------------------------------------------------\u001b[0m",
      "\u001b[0;31mTypeError\u001b[0m                                 Traceback (most recent call last)",
      "\u001b[0;32m/var/folders/2p/t8yvxfjs0_sfvl1djjg08z_r0000gp/T/ipykernel_23638/1904226923.py\u001b[0m in \u001b[0;36m<module>\u001b[0;34m\u001b[0m\n\u001b[0;32m----> 1\u001b[0;31m \u001b[0mdrawmap_unrolled\u001b[0m\u001b[0;34m(\u001b[0m\u001b[0mmap1\u001b[0m\u001b[0;34m,\u001b[0m \u001b[0msize\u001b[0m\u001b[0;34m,\u001b[0m \u001b[0mcsource\u001b[0m\u001b[0;34m,\u001b[0m \u001b[0mdst\u001b[0m\u001b[0;34m,\u001b[0m \u001b[0mprog\u001b[0m\u001b[0;34m)\u001b[0m\u001b[0;34m\u001b[0m\u001b[0;34m\u001b[0m\u001b[0m\n\u001b[0m",
      "\u001b[0;32m/var/folders/2p/t8yvxfjs0_sfvl1djjg08z_r0000gp/T/ipykernel_23638/642182474.py\u001b[0m in \u001b[0;36mdrawmap_unrolled\u001b[0;34m(map, size, csource, name, prog)\u001b[0m\n\u001b[1;32m     10\u001b[0m         \u001b[0;32mfor\u001b[0m \u001b[0mi\u001b[0m\u001b[0;34m,\u001b[0m \u001b[0mp\u001b[0m \u001b[0;32min\u001b[0m \u001b[0menumerate\u001b[0m\u001b[0;34m(\u001b[0m\u001b[0mmap\u001b[0m\u001b[0;34m)\u001b[0m\u001b[0;34m:\u001b[0m\u001b[0;34m\u001b[0m\u001b[0;34m\u001b[0m\u001b[0m\n\u001b[1;32m     11\u001b[0m             \u001b[0moff\u001b[0m \u001b[0;34m=\u001b[0m \u001b[0;34m(\u001b[0m\u001b[0mi\u001b[0m \u001b[0;34m+\u001b[0m \u001b[0;34m(\u001b[0m\u001b[0mquad\u001b[0m \u001b[0;34m*\u001b[0m \u001b[0msize\u001b[0m\u001b[0;34m**\u001b[0m\u001b[0;36m2\u001b[0m\u001b[0;34m)\u001b[0m\u001b[0;34m)\u001b[0m\u001b[0;34m\u001b[0m\u001b[0;34m\u001b[0m\u001b[0m\n\u001b[0;32m---> 12\u001b[0;31m             color = csource.point(\n\u001b[0m\u001b[1;32m     13\u001b[0m                         \u001b[0mint\u001b[0m\u001b[0;34m(\u001b[0m\u001b[0moff\u001b[0m \u001b[0;34m*\u001b[0m \u001b[0mstep\u001b[0m\u001b[0;34m)\u001b[0m\u001b[0;34m\u001b[0m\u001b[0;34m\u001b[0m\u001b[0m\n\u001b[1;32m     14\u001b[0m                     )\n",
      "\u001b[0;32m/var/folders/2p/t8yvxfjs0_sfvl1djjg08z_r0000gp/T/ipykernel_23638/1076181713.py\u001b[0m in \u001b[0;36mpoint\u001b[0;34m(self, x)\u001b[0m\n\u001b[1;32m     13\u001b[0m             \u001b[0;32mreturn\u001b[0m \u001b[0mself\u001b[0m\u001b[0;34m.\u001b[0m\u001b[0mblock\u001b[0m\u001b[0;34m[\u001b[0m\u001b[0;36m2\u001b[0m\u001b[0;34m]\u001b[0m\u001b[0;34m\u001b[0m\u001b[0;34m\u001b[0m\u001b[0m\n\u001b[1;32m     14\u001b[0m         \u001b[0;32melse\u001b[0m\u001b[0;34m:\u001b[0m\u001b[0;34m\u001b[0m\u001b[0;34m\u001b[0m\u001b[0m\n\u001b[0;32m---> 15\u001b[0;31m             \u001b[0;32mreturn\u001b[0m \u001b[0mself\u001b[0m\u001b[0;34m.\u001b[0m\u001b[0mgetPoint\u001b[0m\u001b[0;34m(\u001b[0m\u001b[0mx\u001b[0m\u001b[0;34m)\u001b[0m\u001b[0;34m\u001b[0m\u001b[0;34m\u001b[0m\u001b[0m\n\u001b[0m",
      "\u001b[0;32m/var/folders/2p/t8yvxfjs0_sfvl1djjg08z_r0000gp/T/ipykernel_23638/3292235939.py\u001b[0m in \u001b[0;36mgetPoint\u001b[0;34m(self, x)\u001b[0m\n\u001b[1;32m      7\u001b[0m     \u001b[0;32mdef\u001b[0m \u001b[0mgetPoint\u001b[0m\u001b[0;34m(\u001b[0m\u001b[0mself\u001b[0m\u001b[0;34m,\u001b[0m \u001b[0mx\u001b[0m\u001b[0;34m)\u001b[0m\u001b[0;34m:\u001b[0m\u001b[0;34m\u001b[0m\u001b[0;34m\u001b[0m\u001b[0m\n\u001b[1;32m      8\u001b[0m         \u001b[0mc\u001b[0m \u001b[0;34m=\u001b[0m \u001b[0mself\u001b[0m\u001b[0;34m.\u001b[0m\u001b[0msymbol_map\u001b[0m\u001b[0;34m[\u001b[0m\u001b[0mself\u001b[0m\u001b[0;34m.\u001b[0m\u001b[0mdata\u001b[0m\u001b[0;34m[\u001b[0m\u001b[0mx\u001b[0m\u001b[0;34m]\u001b[0m\u001b[0;34m]\u001b[0m\u001b[0;34m\u001b[0m\u001b[0;34m\u001b[0m\u001b[0m\n\u001b[0;32m----> 9\u001b[0;31m         \u001b[0;32mreturn\u001b[0m \u001b[0mself\u001b[0m\u001b[0;34m.\u001b[0m\u001b[0mcsource\u001b[0m\u001b[0;34m.\u001b[0m\u001b[0mpoint\u001b[0m\u001b[0;34m(\u001b[0m\u001b[0mint\u001b[0m\u001b[0;34m(\u001b[0m\u001b[0mc\u001b[0m\u001b[0;34m*\u001b[0m\u001b[0mself\u001b[0m\u001b[0;34m.\u001b[0m\u001b[0mstep\u001b[0m\u001b[0;34m)\u001b[0m\u001b[0;34m)\u001b[0m\u001b[0;34m\u001b[0m\u001b[0;34m\u001b[0m\u001b[0m\n\u001b[0m",
      "\u001b[0;32m~/Documents/Anaconda-jupyter/scurve-master/scurve/hilbert.py\u001b[0m in \u001b[0;36mpoint\u001b[0;34m(self, idx)\u001b[0m\n\u001b[1;32m    110\u001b[0m \u001b[0;34m\u001b[0m\u001b[0m\n\u001b[1;32m    111\u001b[0m     \u001b[0;32mdef\u001b[0m \u001b[0mpoint\u001b[0m\u001b[0;34m(\u001b[0m\u001b[0mself\u001b[0m\u001b[0;34m,\u001b[0m \u001b[0midx\u001b[0m\u001b[0;34m)\u001b[0m\u001b[0;34m:\u001b[0m\u001b[0;34m\u001b[0m\u001b[0;34m\u001b[0m\u001b[0m\n\u001b[0;32m--> 112\u001b[0;31m         \u001b[0;32mreturn\u001b[0m \u001b[0mhilbert_point\u001b[0m\u001b[0;34m(\u001b[0m\u001b[0mself\u001b[0m\u001b[0;34m.\u001b[0m\u001b[0mdimension\u001b[0m\u001b[0;34m,\u001b[0m \u001b[0mself\u001b[0m\u001b[0;34m.\u001b[0m\u001b[0morder\u001b[0m\u001b[0;34m,\u001b[0m \u001b[0midx\u001b[0m\u001b[0;34m)\u001b[0m\u001b[0;34m\u001b[0m\u001b[0;34m\u001b[0m\u001b[0m\n\u001b[0m\u001b[1;32m    113\u001b[0m \u001b[0;34m\u001b[0m\u001b[0m\n",
      "\u001b[0;32m~/Documents/Anaconda-jupyter/scurve-master/scurve/hilbert.py\u001b[0m in \u001b[0;36mhilbert_point\u001b[0;34m(dimension, order, h)\u001b[0m\n\u001b[1;32m     58\u001b[0m             \u001b[0mb\u001b[0m \u001b[0;34m=\u001b[0m \u001b[0mutils\u001b[0m\u001b[0;34m.\u001b[0m\u001b[0mbitrange\u001b[0m\u001b[0;34m(\u001b[0m\u001b[0ml\u001b[0m\u001b[0;34m,\u001b[0m \u001b[0mdimension\u001b[0m\u001b[0;34m,\u001b[0m \u001b[0mj\u001b[0m\u001b[0;34m,\u001b[0m \u001b[0mj\u001b[0m\u001b[0;34m+\u001b[0m\u001b[0;36m1\u001b[0m\u001b[0;34m)\u001b[0m\u001b[0;34m\u001b[0m\u001b[0;34m\u001b[0m\u001b[0m\n\u001b[1;32m     59\u001b[0m             \u001b[0mp\u001b[0m\u001b[0;34m[\u001b[0m\u001b[0mj\u001b[0m\u001b[0;34m]\u001b[0m \u001b[0;34m=\u001b[0m \u001b[0mutils\u001b[0m\u001b[0;34m.\u001b[0m\u001b[0msetbit\u001b[0m\u001b[0;34m(\u001b[0m\u001b[0mp\u001b[0m\u001b[0;34m[\u001b[0m\u001b[0mj\u001b[0m\u001b[0;34m]\u001b[0m\u001b[0;34m,\u001b[0m \u001b[0morder\u001b[0m\u001b[0;34m,\u001b[0m \u001b[0mi\u001b[0m\u001b[0;34m,\u001b[0m \u001b[0mb\u001b[0m\u001b[0;34m)\u001b[0m\u001b[0;34m\u001b[0m\u001b[0;34m\u001b[0m\u001b[0m\n\u001b[0;32m---> 60\u001b[0;31m         \u001b[0me\u001b[0m \u001b[0;34m=\u001b[0m \u001b[0me\u001b[0m \u001b[0;34m^\u001b[0m \u001b[0mutils\u001b[0m\u001b[0;34m.\u001b[0m\u001b[0mlrot\u001b[0m\u001b[0;34m(\u001b[0m\u001b[0mentry\u001b[0m\u001b[0;34m(\u001b[0m\u001b[0mw\u001b[0m\u001b[0;34m)\u001b[0m\u001b[0;34m,\u001b[0m \u001b[0md\u001b[0m\u001b[0;34m+\u001b[0m\u001b[0;36m1\u001b[0m\u001b[0;34m,\u001b[0m \u001b[0mdimension\u001b[0m\u001b[0;34m)\u001b[0m\u001b[0;34m\u001b[0m\u001b[0;34m\u001b[0m\u001b[0m\n\u001b[0m\u001b[1;32m     61\u001b[0m         \u001b[0md\u001b[0m \u001b[0;34m=\u001b[0m \u001b[0;34m(\u001b[0m\u001b[0md\u001b[0m \u001b[0;34m+\u001b[0m \u001b[0mdirection\u001b[0m\u001b[0;34m(\u001b[0m\u001b[0mw\u001b[0m\u001b[0;34m,\u001b[0m \u001b[0mdimension\u001b[0m\u001b[0;34m)\u001b[0m \u001b[0;34m+\u001b[0m \u001b[0;36m1\u001b[0m\u001b[0;34m)\u001b[0m\u001b[0;34m%\u001b[0m\u001b[0mdimension\u001b[0m\u001b[0;34m\u001b[0m\u001b[0;34m\u001b[0m\u001b[0m\n\u001b[1;32m     62\u001b[0m     \u001b[0;32mreturn\u001b[0m \u001b[0mp\u001b[0m\u001b[0;34m\u001b[0m\u001b[0;34m\u001b[0m\u001b[0m\n",
      "\u001b[0;32m~/Documents/Anaconda-jupyter/scurve-master/scurve/hilbert.py\u001b[0m in \u001b[0;36mentry\u001b[0;34m(x)\u001b[0m\n\u001b[1;32m     35\u001b[0m         \u001b[0;32mreturn\u001b[0m \u001b[0;36m0\u001b[0m\u001b[0;34m\u001b[0m\u001b[0;34m\u001b[0m\u001b[0m\n\u001b[1;32m     36\u001b[0m     \u001b[0;32melse\u001b[0m\u001b[0;34m:\u001b[0m\u001b[0;34m\u001b[0m\u001b[0;34m\u001b[0m\u001b[0m\n\u001b[0;32m---> 37\u001b[0;31m         \u001b[0;32mreturn\u001b[0m \u001b[0mutils\u001b[0m\u001b[0;34m.\u001b[0m\u001b[0mgraycode\u001b[0m\u001b[0;34m(\u001b[0m\u001b[0mint\u001b[0m\u001b[0;34m(\u001b[0m\u001b[0;36m2\u001b[0m\u001b[0;34m*\u001b[0m\u001b[0;34m(\u001b[0m\u001b[0;34m(\u001b[0m\u001b[0mx\u001b[0m\u001b[0;34m-\u001b[0m\u001b[0;36m1\u001b[0m\u001b[0;34m)\u001b[0m\u001b[0;34m/\u001b[0m\u001b[0;36m2\u001b[0m\u001b[0;34m)\u001b[0m\u001b[0;34m)\u001b[0m\u001b[0;34m)\u001b[0m\u001b[0;34m\u001b[0m\u001b[0;34m\u001b[0m\u001b[0m\n\u001b[0m\u001b[1;32m     38\u001b[0m \u001b[0;34m\u001b[0m\u001b[0m\n\u001b[1;32m     39\u001b[0m \u001b[0;34m\u001b[0m\u001b[0m\n",
      "\u001b[0;32m~/Documents/Anaconda-jupyter/scurve-master/scurve/utils.py\u001b[0m in \u001b[0;36mgraycode\u001b[0;34m(x)\u001b[0m\n\u001b[1;32m      6\u001b[0m \u001b[0;34m\u001b[0m\u001b[0m\n\u001b[1;32m      7\u001b[0m \u001b[0;32mdef\u001b[0m \u001b[0mgraycode\u001b[0m\u001b[0;34m(\u001b[0m\u001b[0mx\u001b[0m\u001b[0;34m)\u001b[0m\u001b[0;34m:\u001b[0m \u001b[0;31m#x = 2*((x-1)/2)\u001b[0m\u001b[0;34m\u001b[0m\u001b[0;34m\u001b[0m\u001b[0m\n\u001b[0;32m----> 8\u001b[0;31m     \u001b[0;32mreturn\u001b[0m \u001b[0mx\u001b[0m\u001b[0;34m^\u001b[0m\u001b[0;34m(\u001b[0m\u001b[0mx\u001b[0m\u001b[0;34m>>\u001b[0m\u001b[0;36m1\u001b[0m\u001b[0;34m)\u001b[0m\u001b[0;34m\u001b[0m\u001b[0;34m\u001b[0m\u001b[0m\n\u001b[0m\u001b[1;32m      9\u001b[0m \u001b[0;34m\u001b[0m\u001b[0m\n\u001b[1;32m     10\u001b[0m \u001b[0;34m\u001b[0m\u001b[0m\n",
      "\u001b[0;31mTypeError\u001b[0m: unsupported operand type(s) for >>: 'float' and 'int'"
     ]
    }
   ],
   "source": [
    "drawmap_unrolled(map1, size, csource, dst, prog)"
   ]
  },
  {
   "cell_type": "code",
   "execution_count": 241,
   "id": "50b6586f-d69e-41a0-9d54-e267d593d384",
   "metadata": {},
   "outputs": [],
   "source": [
    "#Test function\n",
    "prog.set_target((size**2)*4)\n",
    "map = scurve.fromSize(map1, 2, size**2)\n",
    "c = Image.new(\"RGB\", (size, size*4))\n",
    "cd = ImageDraw.Draw(c)\n",
    "step = len(csource)/float(len(map)*4)\n",
    "sofar = 0"
   ]
  },
  {
   "cell_type": "code",
   "execution_count": null,
   "id": "f43cdb83-d457-45cf-af63-67137ae11411",
   "metadata": {},
   "outputs": [],
   "source": []
  },
  {
   "cell_type": "code",
   "execution_count": 184,
   "id": "e0c7506f-c5be-4879-9a3d-1ef9ad6fc46c",
   "metadata": {},
   "outputs": [
    {
     "data": {
      "text/plain": [
       "2"
      ]
     },
     "execution_count": 184,
     "metadata": {},
     "output_type": "execute_result"
    }
   ],
   "source": [
    "#map.point(1)\n",
    "\n",
    "#hilbert_point(2, 7, 1)"
   ]
  },
  {
   "cell_type": "code",
   "execution_count": 252,
   "id": "5481eb34-2c7c-4858-b201-e949090dd723",
   "metadata": {},
   "outputs": [],
   "source": [
    "h = 1\n",
    "order = map.order\n",
    "dimension = map.dimension\n",
    "\n",
    "hwidth = order*dimension\n",
    "\n",
    "e, d = 0, 0\n",
    "p = [0]*dimension\n",
    "\n",
    "def hilbert_point(dimension, order, h):\n",
    "    \"\"\"\n",
    "        Convert an index on the Hilbert curve of the specified dimension and\n",
    "        order to a set of point coordinates.\n",
    "    \"\"\"\n",
    "    #    The bit widths in this function are:\n",
    "    #        p[*]  - order\n",
    "    #        h     - order*dimension\n",
    "    #        l     - dimension\n",
    "    #        e     - dimension\n",
    "    hwidth = order*dimension\n",
    "    e, d = 0, 0\n",
    "    p = [0]*dimension\n",
    "    for i in range(order):\n",
    "        w = utils.bitrange(h, hwidth, i*dimension, i*dimension+dimension)\n",
    "        l = utils.graycode(w)\n",
    "        l = itransform(e, d, dimension, l)\n",
    "        for j in range(dimension):\n",
    "            b = utils.bitrange(l, dimension, j, j+1)\n",
    "            p[j] = utils.setbit(p[j], order, i, b)\n",
    "        e = e ^ utils.lrot(entry(w), d+1, dimension)\n",
    "        d = (d + direction(w, dimension) + 1)%dimension\n",
    "    return p\n",
    "\n",
    "def itransform(entry, direction, width, x):\n",
    "    \"\"\"\n",
    "        Inverse transform - we simply reverse the operations in transform.\n",
    "    \"\"\"\n",
    "    assert x < 2**width\n",
    "    assert entry < 2**width\n",
    "    return(utils.lrot(x, direction+1, width)^entry)\n",
    "    # There is an error in the Hamilton paper's formulation of the inverse\n",
    "    # transform in Lemma 2.12. The correct restatement as a transform is as follows:\n",
    "    #return transform(rrot(entry, direction+1, width), width-direction-2, width, x)\n",
    "    \n",
    "def entry(x):\n",
    "    if x == 0:\n",
    "        return 0\n",
    "    else:\n",
    "        return utils.graycode(int(2*((x-1)/2)))\n",
    "    \n",
    "def direction(x, n):\n",
    "    assert x < 2**n\n",
    "    if x == 0:\n",
    "        return 0\n",
    "    elif x%2 == 0:\n",
    "        return utils.tsb(x-1, n)%n\n",
    "    else:\n",
    "        return utils.tsb(x, n)%n"
   ]
  },
  {
   "cell_type": "code",
   "execution_count": 254,
   "id": "59d3722c-fe4b-40dc-a83a-78aebe31e74d",
   "metadata": {
    "tags": []
   },
   "outputs": [
    {
     "name": "stdout",
     "output_type": "stream",
     "text": [
      "[1, 0]\n"
     ]
    }
   ],
   "source": [
    "for i in range(order):\n",
    "    w = utils.bitrange(h, hwidth, i*dimension, i*dimension+dimension)\n",
    "    l = utils.graycode(w)\n",
    "    l = itransform(e, d, dimension, l)\n",
    "    for j in range(dimension):\n",
    "        b = utils.bitrange(l, dimension, j, j+1)\n",
    "        p[j] = utils.setbit(p[j], order, i, b)\n",
    "    e = e ^ utils.lrot(entry(w), d+1, dimension)\n",
    "    d = (d + direction(w, dimension) + 1)%dimension\n",
    "    \n",
    "print(p)"
   ]
  },
  {
   "cell_type": "code",
   "execution_count": 222,
   "id": "f92b2bb3-b959-4ba1-adb3-2b4ab1d8751b",
   "metadata": {},
   "outputs": [
    {
     "data": {
      "text/plain": [
       "0"
      ]
     },
     "execution_count": 222,
     "metadata": {},
     "output_type": "execute_result"
    }
   ],
   "source": [
    "\n",
    "int(2*((1-1)/2))"
   ]
  },
  {
   "cell_type": "code",
   "execution_count": 199,
   "id": "207cf6c1-7e5f-40ce-971a-dc9e952dad7b",
   "metadata": {},
   "outputs": [
    {
     "data": {
      "text/plain": [
       "1"
      ]
     },
     "execution_count": 199,
     "metadata": {},
     "output_type": "execute_result"
    }
   ],
   "source": []
  },
  {
   "cell_type": "code",
   "execution_count": 257,
   "id": "5f6b67ca-841e-42fe-884f-574600d89682",
   "metadata": {
    "collapsed": true,
    "jupyter": {
     "outputs_hidden": true
    },
    "tags": []
   },
   "outputs": [
    {
     "name": "stdout",
     "output_type": "stream",
     "text": [
      "[0, 0]\n"
     ]
    },
    {
     "ename": "TypeError",
     "evalue": "unsupported operand type(s) for >>: 'float' and 'int'",
     "output_type": "error",
     "traceback": [
      "\u001b[0;31m---------------------------------------------------------------------------\u001b[0m",
      "\u001b[0;31mTypeError\u001b[0m                                 Traceback (most recent call last)",
      "\u001b[0;32m/var/folders/2p/t8yvxfjs0_sfvl1djjg08z_r0000gp/T/ipykernel_23638/3533162913.py\u001b[0m in \u001b[0;36m<module>\u001b[0;34m\u001b[0m\n\u001b[0;32m----> 1\u001b[0;31m \u001b[0;32mfor\u001b[0m \u001b[0mi\u001b[0m\u001b[0;34m,\u001b[0m \u001b[0mp\u001b[0m \u001b[0;32min\u001b[0m \u001b[0menumerate\u001b[0m\u001b[0;34m(\u001b[0m\u001b[0mscurve\u001b[0m\u001b[0;34m.\u001b[0m\u001b[0mfromSize\u001b[0m\u001b[0;34m(\u001b[0m\u001b[0;34m'hilbert'\u001b[0m\u001b[0;34m,\u001b[0m \u001b[0;36m2\u001b[0m\u001b[0;34m,\u001b[0m \u001b[0msize\u001b[0m\u001b[0;34m**\u001b[0m\u001b[0;36m2\u001b[0m\u001b[0;34m)\u001b[0m\u001b[0;34m)\u001b[0m\u001b[0;34m:\u001b[0m\u001b[0;34m\u001b[0m\u001b[0;34m\u001b[0m\u001b[0m\n\u001b[0m\u001b[1;32m      2\u001b[0m     \u001b[0mprint\u001b[0m\u001b[0;34m(\u001b[0m\u001b[0mp\u001b[0m\u001b[0;34m)\u001b[0m\u001b[0;34m\u001b[0m\u001b[0;34m\u001b[0m\u001b[0m\n",
      "\u001b[0;32m~/Documents/Anaconda-jupyter/scurve-master/scurve/hilbert.py\u001b[0m in \u001b[0;36m__getitem__\u001b[0;34m(self, idx)\u001b[0m\n\u001b[1;32m     98\u001b[0m         \u001b[0;32mif\u001b[0m \u001b[0midx\u001b[0m \u001b[0;34m>=\u001b[0m \u001b[0mlen\u001b[0m\u001b[0;34m(\u001b[0m\u001b[0mself\u001b[0m\u001b[0;34m)\u001b[0m\u001b[0;34m:\u001b[0m\u001b[0;34m\u001b[0m\u001b[0;34m\u001b[0m\u001b[0m\n\u001b[1;32m     99\u001b[0m             \u001b[0;32mraise\u001b[0m \u001b[0mIndexError\u001b[0m\u001b[0;34m\u001b[0m\u001b[0;34m\u001b[0m\u001b[0m\n\u001b[0;32m--> 100\u001b[0;31m         \u001b[0;32mreturn\u001b[0m \u001b[0mself\u001b[0m\u001b[0;34m.\u001b[0m\u001b[0mpoint\u001b[0m\u001b[0;34m(\u001b[0m\u001b[0midx\u001b[0m\u001b[0;34m)\u001b[0m\u001b[0;34m\u001b[0m\u001b[0;34m\u001b[0m\u001b[0m\n\u001b[0m\u001b[1;32m    101\u001b[0m \u001b[0;34m\u001b[0m\u001b[0m\n\u001b[1;32m    102\u001b[0m     \u001b[0;32mdef\u001b[0m \u001b[0mdimensions\u001b[0m\u001b[0;34m(\u001b[0m\u001b[0mself\u001b[0m\u001b[0;34m)\u001b[0m\u001b[0;34m:\u001b[0m\u001b[0;34m\u001b[0m\u001b[0;34m\u001b[0m\u001b[0m\n",
      "\u001b[0;32m~/Documents/Anaconda-jupyter/scurve-master/scurve/hilbert.py\u001b[0m in \u001b[0;36mpoint\u001b[0;34m(self, idx)\u001b[0m\n\u001b[1;32m    110\u001b[0m \u001b[0;34m\u001b[0m\u001b[0m\n\u001b[1;32m    111\u001b[0m     \u001b[0;32mdef\u001b[0m \u001b[0mpoint\u001b[0m\u001b[0;34m(\u001b[0m\u001b[0mself\u001b[0m\u001b[0;34m,\u001b[0m \u001b[0midx\u001b[0m\u001b[0;34m)\u001b[0m\u001b[0;34m:\u001b[0m\u001b[0;34m\u001b[0m\u001b[0;34m\u001b[0m\u001b[0m\n\u001b[0;32m--> 112\u001b[0;31m         \u001b[0;32mreturn\u001b[0m \u001b[0mhilbert_point\u001b[0m\u001b[0;34m(\u001b[0m\u001b[0mself\u001b[0m\u001b[0;34m.\u001b[0m\u001b[0mdimension\u001b[0m\u001b[0;34m,\u001b[0m \u001b[0mself\u001b[0m\u001b[0;34m.\u001b[0m\u001b[0morder\u001b[0m\u001b[0;34m,\u001b[0m \u001b[0midx\u001b[0m\u001b[0;34m)\u001b[0m\u001b[0;34m\u001b[0m\u001b[0;34m\u001b[0m\u001b[0m\n\u001b[0m\u001b[1;32m    113\u001b[0m \u001b[0;34m\u001b[0m\u001b[0m\n",
      "\u001b[0;32m~/Documents/Anaconda-jupyter/scurve-master/scurve/hilbert.py\u001b[0m in \u001b[0;36mhilbert_point\u001b[0;34m(dimension, order, h)\u001b[0m\n\u001b[1;32m     58\u001b[0m             \u001b[0mb\u001b[0m \u001b[0;34m=\u001b[0m \u001b[0mutils\u001b[0m\u001b[0;34m.\u001b[0m\u001b[0mbitrange\u001b[0m\u001b[0;34m(\u001b[0m\u001b[0ml\u001b[0m\u001b[0;34m,\u001b[0m \u001b[0mdimension\u001b[0m\u001b[0;34m,\u001b[0m \u001b[0mj\u001b[0m\u001b[0;34m,\u001b[0m \u001b[0mj\u001b[0m\u001b[0;34m+\u001b[0m\u001b[0;36m1\u001b[0m\u001b[0;34m)\u001b[0m\u001b[0;34m\u001b[0m\u001b[0;34m\u001b[0m\u001b[0m\n\u001b[1;32m     59\u001b[0m             \u001b[0mp\u001b[0m\u001b[0;34m[\u001b[0m\u001b[0mj\u001b[0m\u001b[0;34m]\u001b[0m \u001b[0;34m=\u001b[0m \u001b[0mutils\u001b[0m\u001b[0;34m.\u001b[0m\u001b[0msetbit\u001b[0m\u001b[0;34m(\u001b[0m\u001b[0mp\u001b[0m\u001b[0;34m[\u001b[0m\u001b[0mj\u001b[0m\u001b[0;34m]\u001b[0m\u001b[0;34m,\u001b[0m \u001b[0morder\u001b[0m\u001b[0;34m,\u001b[0m \u001b[0mi\u001b[0m\u001b[0;34m,\u001b[0m \u001b[0mb\u001b[0m\u001b[0;34m)\u001b[0m\u001b[0;34m\u001b[0m\u001b[0;34m\u001b[0m\u001b[0m\n\u001b[0;32m---> 60\u001b[0;31m         \u001b[0me\u001b[0m \u001b[0;34m=\u001b[0m \u001b[0me\u001b[0m \u001b[0;34m^\u001b[0m \u001b[0mutils\u001b[0m\u001b[0;34m.\u001b[0m\u001b[0mlrot\u001b[0m\u001b[0;34m(\u001b[0m\u001b[0mentry\u001b[0m\u001b[0;34m(\u001b[0m\u001b[0mw\u001b[0m\u001b[0;34m)\u001b[0m\u001b[0;34m,\u001b[0m \u001b[0md\u001b[0m\u001b[0;34m+\u001b[0m\u001b[0;36m1\u001b[0m\u001b[0;34m,\u001b[0m \u001b[0mdimension\u001b[0m\u001b[0;34m)\u001b[0m\u001b[0;34m\u001b[0m\u001b[0;34m\u001b[0m\u001b[0m\n\u001b[0m\u001b[1;32m     61\u001b[0m         \u001b[0md\u001b[0m \u001b[0;34m=\u001b[0m \u001b[0;34m(\u001b[0m\u001b[0md\u001b[0m \u001b[0;34m+\u001b[0m \u001b[0mdirection\u001b[0m\u001b[0;34m(\u001b[0m\u001b[0mw\u001b[0m\u001b[0;34m,\u001b[0m \u001b[0mdimension\u001b[0m\u001b[0;34m)\u001b[0m \u001b[0;34m+\u001b[0m \u001b[0;36m1\u001b[0m\u001b[0;34m)\u001b[0m\u001b[0;34m%\u001b[0m\u001b[0mdimension\u001b[0m\u001b[0;34m\u001b[0m\u001b[0;34m\u001b[0m\u001b[0m\n\u001b[1;32m     62\u001b[0m     \u001b[0;32mreturn\u001b[0m \u001b[0mp\u001b[0m\u001b[0;34m\u001b[0m\u001b[0;34m\u001b[0m\u001b[0m\n",
      "\u001b[0;32m~/Documents/Anaconda-jupyter/scurve-master/scurve/hilbert.py\u001b[0m in \u001b[0;36mentry\u001b[0;34m(x)\u001b[0m\n\u001b[1;32m     35\u001b[0m         \u001b[0;32mreturn\u001b[0m \u001b[0;36m0\u001b[0m\u001b[0;34m\u001b[0m\u001b[0;34m\u001b[0m\u001b[0m\n\u001b[1;32m     36\u001b[0m     \u001b[0;32melse\u001b[0m\u001b[0;34m:\u001b[0m\u001b[0;34m\u001b[0m\u001b[0;34m\u001b[0m\u001b[0m\n\u001b[0;32m---> 37\u001b[0;31m         \u001b[0;32mreturn\u001b[0m \u001b[0mutils\u001b[0m\u001b[0;34m.\u001b[0m\u001b[0mgraycode\u001b[0m\u001b[0;34m(\u001b[0m\u001b[0mint\u001b[0m\u001b[0;34m(\u001b[0m\u001b[0;36m2\u001b[0m\u001b[0;34m*\u001b[0m\u001b[0;34m(\u001b[0m\u001b[0;34m(\u001b[0m\u001b[0mx\u001b[0m\u001b[0;34m-\u001b[0m\u001b[0;36m1\u001b[0m\u001b[0;34m)\u001b[0m\u001b[0;34m/\u001b[0m\u001b[0;36m2\u001b[0m\u001b[0;34m)\u001b[0m\u001b[0;34m)\u001b[0m\u001b[0;34m)\u001b[0m\u001b[0;34m\u001b[0m\u001b[0;34m\u001b[0m\u001b[0m\n\u001b[0m\u001b[1;32m     38\u001b[0m \u001b[0;34m\u001b[0m\u001b[0m\n\u001b[1;32m     39\u001b[0m \u001b[0;34m\u001b[0m\u001b[0m\n",
      "\u001b[0;32m~/Documents/Anaconda-jupyter/scurve-master/scurve/utils.py\u001b[0m in \u001b[0;36mgraycode\u001b[0;34m(x)\u001b[0m\n\u001b[1;32m      6\u001b[0m \u001b[0;34m\u001b[0m\u001b[0m\n\u001b[1;32m      7\u001b[0m \u001b[0;32mdef\u001b[0m \u001b[0mgraycode\u001b[0m\u001b[0;34m(\u001b[0m\u001b[0mx\u001b[0m\u001b[0;34m)\u001b[0m\u001b[0;34m:\u001b[0m \u001b[0;31m#x = 2*((x-1)/2)\u001b[0m\u001b[0;34m\u001b[0m\u001b[0;34m\u001b[0m\u001b[0m\n\u001b[0;32m----> 8\u001b[0;31m     \u001b[0;32mreturn\u001b[0m \u001b[0mint\u001b[0m\u001b[0;34m(\u001b[0m\u001b[0mx\u001b[0m\u001b[0;34m)\u001b[0m\u001b[0;34m^\u001b[0m\u001b[0;34m(\u001b[0m\u001b[0mint\u001b[0m\u001b[0;34m(\u001b[0m\u001b[0mx\u001b[0m\u001b[0;34m)\u001b[0m\u001b[0;34m>>\u001b[0m\u001b[0;36m1\u001b[0m\u001b[0;34m)\u001b[0m\u001b[0;34m\u001b[0m\u001b[0;34m\u001b[0m\u001b[0m\n\u001b[0m\u001b[1;32m      9\u001b[0m \u001b[0;34m\u001b[0m\u001b[0m\n\u001b[1;32m     10\u001b[0m \u001b[0;34m\u001b[0m\u001b[0m\n",
      "\u001b[0;31mTypeError\u001b[0m: unsupported operand type(s) for >>: 'float' and 'int'"
     ]
    }
   ],
   "source": [
    "for i, p in enumerate(scurve.fromSize('hilbert', 2, size**2)):\n",
    "    print(p)"
   ]
  },
  {
   "cell_type": "code",
   "execution_count": 157,
   "id": "c94b3b8d-3421-479c-b62f-e3aef05f3fd2",
   "metadata": {
    "tags": []
   },
   "outputs": [
    {
     "data": {
      "text/plain": [
       "<scurve.hilbert.Hilbert at 0x7fc302bef610>"
      ]
     },
     "execution_count": 157,
     "metadata": {},
     "output_type": "execute_result"
    }
   ],
   "source": [
    "map"
   ]
  },
  {
   "cell_type": "code",
   "execution_count": 129,
   "id": "f46d27a6-733d-4dc1-abfc-4c99518132de",
   "metadata": {
    "collapsed": true,
    "jupyter": {
     "outputs_hidden": true
    },
    "tags": []
   },
   "outputs": [
    {
     "ename": "TypeError",
     "evalue": "unsupported operand type(s) for >>: 'float' and 'int'",
     "output_type": "error",
     "traceback": [
      "\u001b[0;31m---------------------------------------------------------------------------\u001b[0m",
      "\u001b[0;31mTypeError\u001b[0m                                 Traceback (most recent call last)",
      "\u001b[0;32m/var/folders/2p/t8yvxfjs0_sfvl1djjg08z_r0000gp/T/ipykernel_23638/1468954456.py\u001b[0m in \u001b[0;36m<module>\u001b[0;34m\u001b[0m\n\u001b[1;32m      2\u001b[0m     \u001b[0;32mfor\u001b[0m \u001b[0mi\u001b[0m\u001b[0;34m,\u001b[0m \u001b[0mp\u001b[0m \u001b[0;32min\u001b[0m \u001b[0menumerate\u001b[0m\u001b[0;34m(\u001b[0m\u001b[0mmap\u001b[0m\u001b[0;34m)\u001b[0m\u001b[0;34m:\u001b[0m\u001b[0;34m\u001b[0m\u001b[0;34m\u001b[0m\u001b[0m\n\u001b[1;32m      3\u001b[0m         \u001b[0moff\u001b[0m \u001b[0;34m=\u001b[0m \u001b[0;34m(\u001b[0m\u001b[0mi\u001b[0m \u001b[0;34m+\u001b[0m \u001b[0;34m(\u001b[0m\u001b[0mquad\u001b[0m \u001b[0;34m*\u001b[0m \u001b[0msize\u001b[0m\u001b[0;34m**\u001b[0m\u001b[0;36m2\u001b[0m\u001b[0;34m)\u001b[0m\u001b[0;34m)\u001b[0m\u001b[0;34m\u001b[0m\u001b[0;34m\u001b[0m\u001b[0m\n\u001b[0;32m----> 4\u001b[0;31m         color = csource.point(\n\u001b[0m\u001b[1;32m      5\u001b[0m                     \u001b[0mint\u001b[0m\u001b[0;34m(\u001b[0m\u001b[0moff\u001b[0m \u001b[0;34m*\u001b[0m \u001b[0mstep\u001b[0m\u001b[0;34m)\u001b[0m\u001b[0;34m\u001b[0m\u001b[0;34m\u001b[0m\u001b[0m\n\u001b[1;32m      6\u001b[0m                 )\n",
      "\u001b[0;32m/var/folders/2p/t8yvxfjs0_sfvl1djjg08z_r0000gp/T/ipykernel_23638/1076181713.py\u001b[0m in \u001b[0;36mpoint\u001b[0;34m(self, x)\u001b[0m\n\u001b[1;32m     13\u001b[0m             \u001b[0;32mreturn\u001b[0m \u001b[0mself\u001b[0m\u001b[0;34m.\u001b[0m\u001b[0mblock\u001b[0m\u001b[0;34m[\u001b[0m\u001b[0;36m2\u001b[0m\u001b[0;34m]\u001b[0m\u001b[0;34m\u001b[0m\u001b[0;34m\u001b[0m\u001b[0m\n\u001b[1;32m     14\u001b[0m         \u001b[0;32melse\u001b[0m\u001b[0;34m:\u001b[0m\u001b[0;34m\u001b[0m\u001b[0;34m\u001b[0m\u001b[0m\n\u001b[0;32m---> 15\u001b[0;31m             \u001b[0;32mreturn\u001b[0m \u001b[0mself\u001b[0m\u001b[0;34m.\u001b[0m\u001b[0mgetPoint\u001b[0m\u001b[0;34m(\u001b[0m\u001b[0mx\u001b[0m\u001b[0;34m)\u001b[0m\u001b[0;34m\u001b[0m\u001b[0;34m\u001b[0m\u001b[0m\n\u001b[0m",
      "\u001b[0;32m/var/folders/2p/t8yvxfjs0_sfvl1djjg08z_r0000gp/T/ipykernel_23638/3292235939.py\u001b[0m in \u001b[0;36mgetPoint\u001b[0;34m(self, x)\u001b[0m\n\u001b[1;32m      7\u001b[0m     \u001b[0;32mdef\u001b[0m \u001b[0mgetPoint\u001b[0m\u001b[0;34m(\u001b[0m\u001b[0mself\u001b[0m\u001b[0;34m,\u001b[0m \u001b[0mx\u001b[0m\u001b[0;34m)\u001b[0m\u001b[0;34m:\u001b[0m\u001b[0;34m\u001b[0m\u001b[0;34m\u001b[0m\u001b[0m\n\u001b[1;32m      8\u001b[0m         \u001b[0mc\u001b[0m \u001b[0;34m=\u001b[0m \u001b[0mself\u001b[0m\u001b[0;34m.\u001b[0m\u001b[0msymbol_map\u001b[0m\u001b[0;34m[\u001b[0m\u001b[0mself\u001b[0m\u001b[0;34m.\u001b[0m\u001b[0mdata\u001b[0m\u001b[0;34m[\u001b[0m\u001b[0mx\u001b[0m\u001b[0;34m]\u001b[0m\u001b[0;34m]\u001b[0m\u001b[0;34m\u001b[0m\u001b[0;34m\u001b[0m\u001b[0m\n\u001b[0;32m----> 9\u001b[0;31m         \u001b[0;32mreturn\u001b[0m \u001b[0mself\u001b[0m\u001b[0;34m.\u001b[0m\u001b[0mcsource\u001b[0m\u001b[0;34m.\u001b[0m\u001b[0mpoint\u001b[0m\u001b[0;34m(\u001b[0m\u001b[0mint\u001b[0m\u001b[0;34m(\u001b[0m\u001b[0mc\u001b[0m\u001b[0;34m*\u001b[0m\u001b[0mself\u001b[0m\u001b[0;34m.\u001b[0m\u001b[0mstep\u001b[0m\u001b[0;34m)\u001b[0m\u001b[0;34m)\u001b[0m\u001b[0;34m\u001b[0m\u001b[0;34m\u001b[0m\u001b[0m\n\u001b[0m",
      "\u001b[0;32m~/Documents/Anaconda-jupyter/scurve-master/scurve/hilbert.py\u001b[0m in \u001b[0;36mpoint\u001b[0;34m(self, idx)\u001b[0m\n\u001b[1;32m    110\u001b[0m \u001b[0;34m\u001b[0m\u001b[0m\n\u001b[1;32m    111\u001b[0m     \u001b[0;32mdef\u001b[0m \u001b[0mpoint\u001b[0m\u001b[0;34m(\u001b[0m\u001b[0mself\u001b[0m\u001b[0;34m,\u001b[0m \u001b[0midx\u001b[0m\u001b[0;34m)\u001b[0m\u001b[0;34m:\u001b[0m\u001b[0;34m\u001b[0m\u001b[0;34m\u001b[0m\u001b[0m\n\u001b[0;32m--> 112\u001b[0;31m         \u001b[0;32mreturn\u001b[0m \u001b[0mhilbert_point\u001b[0m\u001b[0;34m(\u001b[0m\u001b[0mself\u001b[0m\u001b[0;34m.\u001b[0m\u001b[0mdimension\u001b[0m\u001b[0;34m,\u001b[0m \u001b[0mself\u001b[0m\u001b[0;34m.\u001b[0m\u001b[0morder\u001b[0m\u001b[0;34m,\u001b[0m \u001b[0midx\u001b[0m\u001b[0;34m)\u001b[0m\u001b[0;34m\u001b[0m\u001b[0;34m\u001b[0m\u001b[0m\n\u001b[0m\u001b[1;32m    113\u001b[0m \u001b[0;34m\u001b[0m\u001b[0m\n",
      "\u001b[0;32m~/Documents/Anaconda-jupyter/scurve-master/scurve/hilbert.py\u001b[0m in \u001b[0;36mhilbert_point\u001b[0;34m(dimension, order, h)\u001b[0m\n\u001b[1;32m     58\u001b[0m             \u001b[0mb\u001b[0m \u001b[0;34m=\u001b[0m \u001b[0mutils\u001b[0m\u001b[0;34m.\u001b[0m\u001b[0mbitrange\u001b[0m\u001b[0;34m(\u001b[0m\u001b[0ml\u001b[0m\u001b[0;34m,\u001b[0m \u001b[0mdimension\u001b[0m\u001b[0;34m,\u001b[0m \u001b[0mj\u001b[0m\u001b[0;34m,\u001b[0m \u001b[0mj\u001b[0m\u001b[0;34m+\u001b[0m\u001b[0;36m1\u001b[0m\u001b[0;34m)\u001b[0m\u001b[0;34m\u001b[0m\u001b[0;34m\u001b[0m\u001b[0m\n\u001b[1;32m     59\u001b[0m             \u001b[0mp\u001b[0m\u001b[0;34m[\u001b[0m\u001b[0mj\u001b[0m\u001b[0;34m]\u001b[0m \u001b[0;34m=\u001b[0m \u001b[0mutils\u001b[0m\u001b[0;34m.\u001b[0m\u001b[0msetbit\u001b[0m\u001b[0;34m(\u001b[0m\u001b[0mp\u001b[0m\u001b[0;34m[\u001b[0m\u001b[0mj\u001b[0m\u001b[0;34m]\u001b[0m\u001b[0;34m,\u001b[0m \u001b[0morder\u001b[0m\u001b[0;34m,\u001b[0m \u001b[0mi\u001b[0m\u001b[0;34m,\u001b[0m \u001b[0mb\u001b[0m\u001b[0;34m)\u001b[0m\u001b[0;34m\u001b[0m\u001b[0;34m\u001b[0m\u001b[0m\n\u001b[0;32m---> 60\u001b[0;31m         \u001b[0me\u001b[0m \u001b[0;34m=\u001b[0m \u001b[0me\u001b[0m \u001b[0;34m^\u001b[0m \u001b[0mutils\u001b[0m\u001b[0;34m.\u001b[0m\u001b[0mlrot\u001b[0m\u001b[0;34m(\u001b[0m\u001b[0mentry\u001b[0m\u001b[0;34m(\u001b[0m\u001b[0mw\u001b[0m\u001b[0;34m)\u001b[0m\u001b[0;34m,\u001b[0m \u001b[0md\u001b[0m\u001b[0;34m+\u001b[0m\u001b[0;36m1\u001b[0m\u001b[0;34m,\u001b[0m \u001b[0mdimension\u001b[0m\u001b[0;34m)\u001b[0m\u001b[0;34m\u001b[0m\u001b[0;34m\u001b[0m\u001b[0m\n\u001b[0m\u001b[1;32m     61\u001b[0m         \u001b[0md\u001b[0m \u001b[0;34m=\u001b[0m \u001b[0;34m(\u001b[0m\u001b[0md\u001b[0m \u001b[0;34m+\u001b[0m \u001b[0mdirection\u001b[0m\u001b[0;34m(\u001b[0m\u001b[0mw\u001b[0m\u001b[0;34m,\u001b[0m \u001b[0mdimension\u001b[0m\u001b[0;34m)\u001b[0m \u001b[0;34m+\u001b[0m \u001b[0;36m1\u001b[0m\u001b[0;34m)\u001b[0m\u001b[0;34m%\u001b[0m\u001b[0mdimension\u001b[0m\u001b[0;34m\u001b[0m\u001b[0;34m\u001b[0m\u001b[0m\n\u001b[1;32m     62\u001b[0m     \u001b[0;32mreturn\u001b[0m \u001b[0mp\u001b[0m\u001b[0;34m\u001b[0m\u001b[0;34m\u001b[0m\u001b[0m\n",
      "\u001b[0;32m~/Documents/Anaconda-jupyter/scurve-master/scurve/hilbert.py\u001b[0m in \u001b[0;36mentry\u001b[0;34m(x)\u001b[0m\n\u001b[1;32m     35\u001b[0m         \u001b[0;32mreturn\u001b[0m \u001b[0;36m0\u001b[0m\u001b[0;34m\u001b[0m\u001b[0;34m\u001b[0m\u001b[0m\n\u001b[1;32m     36\u001b[0m     \u001b[0;32melse\u001b[0m\u001b[0;34m:\u001b[0m\u001b[0;34m\u001b[0m\u001b[0;34m\u001b[0m\u001b[0m\n\u001b[0;32m---> 37\u001b[0;31m         \u001b[0;32mreturn\u001b[0m \u001b[0mutils\u001b[0m\u001b[0;34m.\u001b[0m\u001b[0mgraycode\u001b[0m\u001b[0;34m(\u001b[0m\u001b[0;36m2\u001b[0m\u001b[0;34m*\u001b[0m\u001b[0;34m(\u001b[0m\u001b[0;34m(\u001b[0m\u001b[0mx\u001b[0m\u001b[0;34m-\u001b[0m\u001b[0;36m1\u001b[0m\u001b[0;34m)\u001b[0m\u001b[0;34m/\u001b[0m\u001b[0;36m2\u001b[0m\u001b[0;34m)\u001b[0m\u001b[0;34m)\u001b[0m\u001b[0;34m\u001b[0m\u001b[0;34m\u001b[0m\u001b[0m\n\u001b[0m\u001b[1;32m     38\u001b[0m \u001b[0;34m\u001b[0m\u001b[0m\n\u001b[1;32m     39\u001b[0m \u001b[0;34m\u001b[0m\u001b[0m\n",
      "\u001b[0;32m~/Documents/Anaconda-jupyter/scurve-master/scurve/utils.py\u001b[0m in \u001b[0;36mgraycode\u001b[0;34m(x)\u001b[0m\n\u001b[1;32m      6\u001b[0m \u001b[0;34m\u001b[0m\u001b[0m\n\u001b[1;32m      7\u001b[0m \u001b[0;32mdef\u001b[0m \u001b[0mgraycode\u001b[0m\u001b[0;34m(\u001b[0m\u001b[0mx\u001b[0m\u001b[0;34m)\u001b[0m\u001b[0;34m:\u001b[0m \u001b[0;31m#x = 2*((x-1)/2)\u001b[0m\u001b[0;34m\u001b[0m\u001b[0;34m\u001b[0m\u001b[0m\n\u001b[0;32m----> 8\u001b[0;31m     \u001b[0;32mreturn\u001b[0m \u001b[0mx\u001b[0m\u001b[0;34m^\u001b[0m\u001b[0;34m(\u001b[0m\u001b[0mx\u001b[0m\u001b[0;34m>>\u001b[0m\u001b[0;36m1\u001b[0m\u001b[0;34m)\u001b[0m\u001b[0;34m\u001b[0m\u001b[0;34m\u001b[0m\u001b[0m\n\u001b[0m\u001b[1;32m      9\u001b[0m \u001b[0;34m\u001b[0m\u001b[0m\n\u001b[1;32m     10\u001b[0m \u001b[0;34m\u001b[0m\u001b[0m\n",
      "\u001b[0;31mTypeError\u001b[0m: unsupported operand type(s) for >>: 'float' and 'int'"
     ]
    }
   ],
   "source": [
    "for quad in range(4):\n",
    "    for i, p in enumerate(map):\n",
    "        off = (i + (quad * size**2))\n",
    "        color = csource.point(\n",
    "                    int(off * step)\n",
    "                )\n",
    "        x, y = tuple(p)\n",
    "        cd.point(\n",
    "            (x, y + (size * quad)),\n",
    "            fill=tuple(color)\n",
    "        )\n",
    "        if not sofar%100:\n",
    "            prog.tick(sofar)\n",
    "        sofar += 1\n",
    "c.save(name)"
   ]
  },
  {
   "cell_type": "code",
   "execution_count": 105,
   "id": "4e84b6be-5ad8-4e9f-a702-42f098bbdd87",
   "metadata": {},
   "outputs": [],
   "source": [
    "#drawmap_unrolled(map, size, csource, dst, prog)"
   ]
  },
  {
   "cell_type": "code",
   "execution_count": 103,
   "id": "15754b8b-6835-460d-902a-a26694d293e2",
   "metadata": {},
   "outputs": [
    {
     "data": {
      "text/plain": [
       "<__main__.ColorHilbert at 0x7fc302e5cd30>"
      ]
     },
     "execution_count": 103,
     "metadata": {},
     "output_type": "execute_result"
    }
   ],
   "source": [
    "csource.point"
   ]
  },
  {
   "cell_type": "code",
   "execution_count": null,
   "id": "b555cab8-5614-4cd1-a42a-f15a26910904",
   "metadata": {},
   "outputs": [],
   "source": []
  },
  {
   "cell_type": "code",
   "execution_count": 50,
   "id": "c3e0a122-06c8-42fa-80cf-c47532ecc123",
   "metadata": {},
   "outputs": [
    {
     "name": "stdout",
     "output_type": "stream",
     "text": [
      "['0000000', '0005a70[', 'byteclass]']\n"
     ]
    }
   ],
   "source": [
    "l = '0000000:0005a70[:byteclass]' \n",
    "parts = l.split(\":\")\n",
    "print(parts)"
   ]
  },
  {
   "cell_type": "code",
   "execution_count": null,
   "id": "d7d3f67f-43ce-45a9-b0be-7d987fef1e6b",
   "metadata": {},
   "outputs": [],
   "source": [
    "d = file(args[0]).read() # What is this?\n",
    "\n",
    "dst = 'hilbert'\n",
    "\n",
    "csource = ColorHilbert(d, block)\n",
    "\n",
    "def drawmap_unrolled(map, size, csource, name, prog):\n",
    "    prog.set_target((size**2)*4)\n",
    "    map = scurve.fromSize(map, 2, size**2)\n",
    "    c = Image.new(\"RGB\", (size, size*4))\n",
    "    cd = ImageDraw.Draw(c)\n",
    "    step = len(csource)/float(len(map)*4)\n",
    "\n",
    "    sofar = 0\n",
    "    for quad in range(4):\n",
    "        for i, p in enumerate(map):\n",
    "            off = (i + (quad * size**2))\n",
    "            color = csource.point(\n",
    "                        int(off * step)\n",
    "                    )\n",
    "            x, y = tuple(p)\n",
    "            cd.point(\n",
    "                (x, y + (size * quad)),\n",
    "                fill=tuple(color)\n",
    "            )\n",
    "            if not sofar%100:\n",
    "                prog.tick(sofar)\n",
    "            sofar += 1\n",
    "    c.save(name)\n"
   ]
  },
  {
   "cell_type": "code",
   "execution_count": 53,
   "id": "6f98812c-202c-4e9c-9aaa-2c61f42ce24e",
   "metadata": {},
   "outputs": [],
   "source": [
    "path = '/Users/joao.ferreira/Documents/Anaconda-jupyter/archive/training/NotPhish/0_17track_net.html'  "
   ]
  },
  {
   "cell_type": "code",
   "execution_count": 57,
   "id": "fc568a9e-fb92-47fd-a8df-fb8ee8fe53ee",
   "metadata": {},
   "outputs": [],
   "source": [
    "d = open(path, 'r')\n",
    "content = d.read()"
   ]
  },
  {
   "cell_type": "code",
   "execution_count": 59,
   "id": "b9c9a85f-aaa0-4c25-930d-62d91d07a957",
   "metadata": {},
   "outputs": [],
   "source": [
    "content"
   ]
  },
  {
   "cell_type": "code",
   "execution_count": 66,
   "id": "16d367d2-f8f1-4df9-a95f-9009b25c6710",
   "metadata": {},
   "outputs": [
    {
     "data": {
      "text/plain": [
       "['0_17track_net', 'html']"
      ]
     },
     "execution_count": 66,
     "metadata": {},
     "output_type": "execute_result"
    }
   ],
   "source": [
    "argg = '/Users/joao.ferreira/Documents/Anaconda-jupyter/archive/training/NotPhish/0_17track_net.html'\n",
    "\n",
    "base = os.path.basename(argg)\n",
    "\n",
    "base.rsplit(\".\", 1)\n",
    "\n",
    "#if \".\" in base:\n",
    "#    base, _ = base.rsplit(\".\", 1)\n",
    "#    dst = base + options.suffix + \".png\""
   ]
  },
  {
   "cell_type": "code",
   "execution_count": 71,
   "id": "0fb9d12d-b2df-41bd-82e1-2ebe1f1990d2",
   "metadata": {},
   "outputs": [],
   "source": [
    "if 1: #If file with the output name exists, verify if the user wants to override it \n",
    "    print >> sys.stderr, \"Refusing to over-write '%s'. Specify explicitly if you really want to do this.\"%dst\n",
    "    sys.exit(1)"
   ]
  },
  {
   "cell_type": "code",
   "execution_count": 76,
   "id": "f0e67621-e482-49d9-be0f-e161dcb9aeef",
   "metadata": {},
   "outputs": [
    {
     "name": "stderr",
     "output_type": "stream",
     "text": [
      "Refusing to over-write '/Users/joao.ferreira/Documents/Anaconda-jupyter/archive/training/NotPhish/0_17track_net.html'. Specify explicitly if you really want to do this.\n"
     ]
    }
   ],
   "source": [
    "dst = '/Users/joao.ferreira/Documents/Anaconda-jupyter/archive/training/NotPhish/0_17track_net.html'\n",
    "print(\"Refusing to over-write '%s'. Specify explicitly if you really want to do this.\"%dst, file=sys.stderr)"
   ]
  },
  {
   "cell_type": "code",
   "execution_count": 78,
   "id": "b75e5be8-bb30-43d3-ae05-d474c67b849c",
   "metadata": {},
   "outputs": [
    {
     "data": {
      "text/plain": [
       "dict_keys(['hcurve', 'hilbert', 'zigzag', 'zorder', 'natural', 'gray'])"
      ]
     },
     "execution_count": 78,
     "metadata": {},
     "output_type": "execute_result"
    }
   ],
   "source": [
    "scurve.curveMap.keys()"
   ]
  },
  {
   "cell_type": "code",
   "execution_count": 91,
   "id": "29346a21-ec1e-4d49-89bb-f13979d22c8f",
   "metadata": {},
   "outputs": [],
   "source": [
    "x = 10\n",
    "\n",
    "y = x>>5"
   ]
  },
  {
   "cell_type": "code",
   "execution_count": 92,
   "id": "dd57d517-6b8e-4306-b8dc-e79a52f61fa3",
   "metadata": {},
   "outputs": [
    {
     "data": {
      "text/plain": [
       "0"
      ]
     },
     "execution_count": 92,
     "metadata": {},
     "output_type": "execute_result"
    }
   ],
   "source": [
    "y"
   ]
  },
  {
   "cell_type": "code",
   "execution_count": null,
   "id": "6de13d23-44bd-474c-8b9e-eeb570640f68",
   "metadata": {},
   "outputs": [],
   "source": [
    "return x^(x>>1) #/scurve/utils.py : line 8, in graycode\n",
    "\n",
    "return utils.graycode(2*((x-1)/2)) #/scurve/hilbert.py : line 37, in entry\n",
    "\n",
    "e = e ^ utils.lrot(entry(w), d+1, dimension) #/scurve/hilbert.py : line 60, in hilbert_point\n",
    "\n",
    "return hilbert_point(self.dimension, self.order, idx) #/scurve/hilbert.py : line 112, in point\n",
    "\n",
    "return self.csource.point(int(c*self.step)) #/binvis.py : line 43, in getPoint\n",
    "\n",
    "return self.getPoint(x) #/binvis.py : line 22, in point\n",
    "\n",
    "color = csource.point( #/binvis.py : line 86, in drawmap_unrolled\n",
    "    \n",
    "drawmap_unrolled(options.map, options.size, csource, dst, prog) #/binvis.py : line 211, in main\n",
    "\n",
    "\n",
    "\n",
    "\n",
    "\n"
   ]
  },
  {
   "cell_type": "code",
   "execution_count": null,
   "id": "1c116be2-3b25-4f37-add9-a4dd454482c7",
   "metadata": {},
   "outputs": [],
   "source": [
    "x = 10 #(0000 1010)\n",
    "\n",
    "x >> (width-end) & ((2**(end-start))-1)"
   ]
  },
  {
   "cell_type": "code",
   "execution_count": 258,
   "id": "c20ef93b-54d6-4259-b3ef-1c39b1f7ae23",
   "metadata": {},
   "outputs": [
    {
     "name": "stdout",
     "output_type": "stream",
     "text": [
      "0_17track_net.png\n"
     ]
    }
   ],
   "source": [
    "base = os.path.basename('/Users/joao.ferreira/Documents/Anaconda-jupyter/archive/training/NotPhish/0_17track_net.html')\n",
    "if \".\" in base:\n",
    "    base, _ = base.rsplit(\".\", 1)\n",
    "dst = base + \"\"+ \".png\"\n",
    "print(dst)"
   ]
  },
  {
   "cell_type": "markdown",
   "id": "8f216432-0d92-482e-aabd-ddfb61094944",
   "metadata": {},
   "source": [
    "# Finalmente"
   ]
  },
  {
   "cell_type": "code",
   "execution_count": 16,
   "id": "1bf54e38-a3db-4c6c-bda9-16e9de33e490",
   "metadata": {},
   "outputs": [],
   "source": [
    "#Set arguments required\n",
    "map = \"hilbert\"\n",
    "size = 256\n",
    "\n",
    "d = '/Users/joao.ferreira/Documents/Anaconda-jupyter/archive/training/NotPhish/0_afip_gob_ar.html'\n",
    "block = None\n",
    "csource = ColorClass(d, block) # problema\n",
    "base = os.path.basename(d)\n",
    "if \".\" in base:\n",
    "    base, _ = base.rsplit(\".\", 1)\n",
    "dst = base + \"\" + \".png\"\n",
    "prog = progress.Progress(None)"
   ]
  },
  {
   "cell_type": "code",
   "execution_count": 17,
   "id": "4b04f196-3b3d-482a-8d34-1f75f65ff17a",
   "metadata": {},
   "outputs": [
    {
     "name": "stderr",
     "output_type": "stream",
     "text": [
      "|---------------------------------------> | 0:00:00"
     ]
    }
   ],
   "source": [
    "drawmap_unrolled(map, size, csource, dst, prog)"
   ]
  },
  {
   "cell_type": "code",
   "execution_count": null,
   "id": "aa97257a-4adf-4a9c-a5f5-a3e4287b27be",
   "metadata": {},
   "outputs": [],
   "source": [
    "#run on terminal\n",
    "#python binvis.py -c class -m hilbert -s 128 '/Users/joao.ferreira/Documents/Anaconda-jupyter/archive/training/NotPhish/0_17track_net.html'"
   ]
  },
  {
   "cell_type": "markdown",
   "id": "210e48c0-ad28-402a-8066-fb64f87968c9",
   "metadata": {},
   "source": [
    "# Pipeline"
   ]
  },
  {
   "cell_type": "code",
   "execution_count": 245,
   "id": "80cebfb0-2533-4832-9448-c7bff43f98ce",
   "metadata": {},
   "outputs": [],
   "source": [
    "import pandas as pd\n",
    "import time\n",
    "\n",
    "#For training\n",
    "\n",
    "training_phishing = '/Users/joao.ferreira/Documents/Anaconda-jupyter/archive/training/Phish/' #Dir with the phishing websites\n",
    "training_legitimate = '/Users/joao.ferreira/Documents/Anaconda-jupyter/archive/training/NotPhish/' #Dir with the legitimate websites\n",
    "\n",
    "binary_images_path = '/Users/joao.ferreira/Documents/Anaconda-jupyter/archive/training/Binary_images/' #Dir to save images generated for phishing websites\n",
    "\n",
    "n_samples = 250 #Number of samples per category(250 for phishing, 250 for legitimate)\n",
    "\n",
    "def listdir_nohidden(path): #Lists all non hidden files\n",
    "    for f in os.listdir(path):\n",
    "        if not f.startswith('.'):\n",
    "            yield f\n",
    "\n",
    "def innit_df(n_samples): #function that returns the data set according to the number of samples of each category wanted.\n",
    "    isPhish = pd.DataFrame(data = {'File': list(listdir_nohidden(training_phishing)), 'BinaryImage': None, 'Phishing': 1 }) #Defines phish df and places all file names in File column\n",
    "    notPhish = pd.DataFrame(data = {'File': list(listdir_nohidden(training_legitimate)), 'BinaryImage': None, 'Phishing': 0}) #Defines legitimate df and places all file names in File column\n",
    "    \n",
    "    #isPhish.File = list(listdir_nohidden(training_phishing))\n",
    "    #notPhish.File = list(listdir_nohidden(training_legitimate))\n",
    "    \n",
    "    sample_phish = isPhish.sample(n_samples) #Selects n_samples random rows from each df\n",
    "    sample_legitimate = notPhish.sample(n_samples)\n",
    "    \n",
    "    final_df = (pd.concat([sample_phish, sample_legitimate], ignore_index = True)).sample(frac = 1).reset_index(drop = True) #returns a df with n_samples * 2 random rows made from the sample df's collected before\n",
    "    final_df.Phishing = (final_df.Phishing).astype('category') #Set target column type to category\n",
    "    \n",
    "    return final_df #returns the dataframe\n",
    "\n",
    "args = {'mapp': \"hilbert\", #Sets the static arguments\n",
    "        'size': 128,\n",
    "        'block': None,\n",
    "        'prog': progress.Progress(None)\n",
    "        }\n",
    "\n",
    "def generate_images(df, mapp, size, block, prog): #Generates the images for the websites that are in the training dataframe\n",
    "    aux_l = []\n",
    "    for file in df.values:\n",
    "        if(file[2] == 1):\n",
    "            csource = ColorClass(training_phishing + file[0], block)\n",
    "        else:\n",
    "            csource = ColorClass(training_legitimate + file[0], block)\n",
    "        dst = binary_images_path + file[0][:-5] + \".png\"\n",
    "        drawmap_unrolled(mapp, size, csource, dst, prog)\n",
    "        aux_l.append(file[0][:-5] + \".png\")\n",
    "    df.BinaryImage = aux_l"
   ]
  },
  {
   "cell_type": "code",
   "execution_count": 241,
   "id": "3ade3995-dc6b-4b09-b369-63d3a5aec2c2",
   "metadata": {},
   "outputs": [],
   "source": [
    "df = innit_df(n_samples)"
   ]
  },
  {
   "cell_type": "code",
   "execution_count": 243,
   "id": "4e138311-4629-46e3-828f-c3aec7fbc050",
   "metadata": {
    "collapsed": true,
    "jupyter": {
     "outputs_hidden": true
    },
    "tags": []
   },
   "outputs": [
    {
     "name": "stderr",
     "output_type": "stream",
     "text": [
      "|---------------------------------------> | 0:00:00"
     ]
    },
    {
     "ename": "KeyboardInterrupt",
     "evalue": "",
     "output_type": "error",
     "traceback": [
      "\u001b[0;31m---------------------------------------------------------------------------\u001b[0m",
      "\u001b[0;31mKeyboardInterrupt\u001b[0m                         Traceback (most recent call last)",
      "\u001b[0;32m/var/folders/2p/t8yvxfjs0_sfvl1djjg08z_r0000gp/T/ipykernel_48935/1047163162.py\u001b[0m in \u001b[0;36m<module>\u001b[0;34m\u001b[0m\n\u001b[1;32m      1\u001b[0m \u001b[0mstart_time\u001b[0m \u001b[0;34m=\u001b[0m \u001b[0mtime\u001b[0m\u001b[0;34m.\u001b[0m\u001b[0mtime\u001b[0m\u001b[0;34m(\u001b[0m\u001b[0;34m)\u001b[0m\u001b[0;34m\u001b[0m\u001b[0;34m\u001b[0m\u001b[0m\n\u001b[1;32m      2\u001b[0m \u001b[0;34m\u001b[0m\u001b[0m\n\u001b[0;32m----> 3\u001b[0;31m \u001b[0mgenerate_images\u001b[0m\u001b[0;34m(\u001b[0m\u001b[0mdf\u001b[0m\u001b[0;34m,\u001b[0m \u001b[0margs\u001b[0m\u001b[0;34m[\u001b[0m\u001b[0;34m'mapp'\u001b[0m\u001b[0;34m]\u001b[0m\u001b[0;34m,\u001b[0m \u001b[0margs\u001b[0m\u001b[0;34m[\u001b[0m\u001b[0;34m'size'\u001b[0m\u001b[0;34m]\u001b[0m\u001b[0;34m,\u001b[0m \u001b[0margs\u001b[0m\u001b[0;34m[\u001b[0m\u001b[0;34m'block'\u001b[0m\u001b[0;34m]\u001b[0m\u001b[0;34m,\u001b[0m \u001b[0margs\u001b[0m\u001b[0;34m[\u001b[0m\u001b[0;34m'prog'\u001b[0m\u001b[0;34m]\u001b[0m\u001b[0;34m)\u001b[0m\u001b[0;34m\u001b[0m\u001b[0;34m\u001b[0m\u001b[0m\n\u001b[0m\u001b[1;32m      4\u001b[0m \u001b[0;34m\u001b[0m\u001b[0m\n\u001b[1;32m      5\u001b[0m \u001b[0mtimee\u001b[0m \u001b[0;34m=\u001b[0m \u001b[0;34m(\u001b[0m\u001b[0mtime\u001b[0m\u001b[0;34m.\u001b[0m\u001b[0mtime\u001b[0m\u001b[0;34m(\u001b[0m\u001b[0;34m)\u001b[0m \u001b[0;34m-\u001b[0m \u001b[0mstart_time\u001b[0m\u001b[0;34m)\u001b[0m\u001b[0;34m\u001b[0m\u001b[0;34m\u001b[0m\u001b[0m\n",
      "\u001b[0;32m/var/folders/2p/t8yvxfjs0_sfvl1djjg08z_r0000gp/T/ipykernel_48935/65293188.py\u001b[0m in \u001b[0;36mgenerate_images\u001b[0;34m(df, mapp, size, block, prog)\u001b[0m\n\u001b[1;32m     45\u001b[0m             \u001b[0mcsource\u001b[0m \u001b[0;34m=\u001b[0m \u001b[0mColorHilbert\u001b[0m\u001b[0;34m(\u001b[0m\u001b[0mtraining_legitimate\u001b[0m \u001b[0;34m+\u001b[0m \u001b[0mfile\u001b[0m\u001b[0;34m[\u001b[0m\u001b[0;36m0\u001b[0m\u001b[0;34m]\u001b[0m\u001b[0;34m,\u001b[0m \u001b[0mblock\u001b[0m\u001b[0;34m)\u001b[0m\u001b[0;34m\u001b[0m\u001b[0;34m\u001b[0m\u001b[0m\n\u001b[1;32m     46\u001b[0m         \u001b[0mdst\u001b[0m \u001b[0;34m=\u001b[0m \u001b[0mbinary_images_path\u001b[0m \u001b[0;34m+\u001b[0m \u001b[0mfile\u001b[0m\u001b[0;34m[\u001b[0m\u001b[0;36m0\u001b[0m\u001b[0;34m]\u001b[0m\u001b[0;34m[\u001b[0m\u001b[0;34m:\u001b[0m\u001b[0;34m-\u001b[0m\u001b[0;36m5\u001b[0m\u001b[0;34m]\u001b[0m \u001b[0;34m+\u001b[0m \u001b[0;34m\".png\"\u001b[0m\u001b[0;34m\u001b[0m\u001b[0;34m\u001b[0m\u001b[0m\n\u001b[0;32m---> 47\u001b[0;31m         \u001b[0mdrawmap_unrolled\u001b[0m\u001b[0;34m(\u001b[0m\u001b[0mmapp\u001b[0m\u001b[0;34m,\u001b[0m \u001b[0msize\u001b[0m\u001b[0;34m,\u001b[0m \u001b[0mcsource\u001b[0m\u001b[0;34m,\u001b[0m \u001b[0mdst\u001b[0m\u001b[0;34m,\u001b[0m \u001b[0mprog\u001b[0m\u001b[0;34m)\u001b[0m\u001b[0;34m\u001b[0m\u001b[0;34m\u001b[0m\u001b[0m\n\u001b[0m\u001b[1;32m     48\u001b[0m         \u001b[0maux_l\u001b[0m\u001b[0;34m.\u001b[0m\u001b[0mappend\u001b[0m\u001b[0;34m(\u001b[0m\u001b[0mfile\u001b[0m\u001b[0;34m[\u001b[0m\u001b[0;36m0\u001b[0m\u001b[0;34m]\u001b[0m\u001b[0;34m[\u001b[0m\u001b[0;34m:\u001b[0m\u001b[0;34m-\u001b[0m\u001b[0;36m5\u001b[0m\u001b[0;34m]\u001b[0m \u001b[0;34m+\u001b[0m \u001b[0;34m\".png\"\u001b[0m\u001b[0;34m)\u001b[0m\u001b[0;34m\u001b[0m\u001b[0;34m\u001b[0m\u001b[0m\n\u001b[1;32m     49\u001b[0m     \u001b[0mdf\u001b[0m\u001b[0;34m.\u001b[0m\u001b[0mBinaryImage\u001b[0m \u001b[0;34m=\u001b[0m \u001b[0maux_l\u001b[0m\u001b[0;34m\u001b[0m\u001b[0;34m\u001b[0m\u001b[0m\n",
      "\u001b[0;32m/var/folders/2p/t8yvxfjs0_sfvl1djjg08z_r0000gp/T/ipykernel_48935/642182474.py\u001b[0m in \u001b[0;36mdrawmap_unrolled\u001b[0;34m(map, size, csource, name, prog)\u001b[0m\n\u001b[1;32m     10\u001b[0m         \u001b[0;32mfor\u001b[0m \u001b[0mi\u001b[0m\u001b[0;34m,\u001b[0m \u001b[0mp\u001b[0m \u001b[0;32min\u001b[0m \u001b[0menumerate\u001b[0m\u001b[0;34m(\u001b[0m\u001b[0mmap\u001b[0m\u001b[0;34m)\u001b[0m\u001b[0;34m:\u001b[0m\u001b[0;34m\u001b[0m\u001b[0;34m\u001b[0m\u001b[0m\n\u001b[1;32m     11\u001b[0m             \u001b[0moff\u001b[0m \u001b[0;34m=\u001b[0m \u001b[0;34m(\u001b[0m\u001b[0mi\u001b[0m \u001b[0;34m+\u001b[0m \u001b[0;34m(\u001b[0m\u001b[0mquad\u001b[0m \u001b[0;34m*\u001b[0m \u001b[0msize\u001b[0m\u001b[0;34m**\u001b[0m\u001b[0;36m2\u001b[0m\u001b[0;34m)\u001b[0m\u001b[0;34m)\u001b[0m\u001b[0;34m\u001b[0m\u001b[0;34m\u001b[0m\u001b[0m\n\u001b[0;32m---> 12\u001b[0;31m             color = csource.point(\n\u001b[0m\u001b[1;32m     13\u001b[0m                         \u001b[0mint\u001b[0m\u001b[0;34m(\u001b[0m\u001b[0moff\u001b[0m \u001b[0;34m*\u001b[0m \u001b[0mstep\u001b[0m\u001b[0;34m)\u001b[0m\u001b[0;34m\u001b[0m\u001b[0;34m\u001b[0m\u001b[0m\n\u001b[1;32m     14\u001b[0m                     )\n",
      "\u001b[0;32m/var/folders/2p/t8yvxfjs0_sfvl1djjg08z_r0000gp/T/ipykernel_48935/1076181713.py\u001b[0m in \u001b[0;36mpoint\u001b[0;34m(self, x)\u001b[0m\n\u001b[1;32m     13\u001b[0m             \u001b[0;32mreturn\u001b[0m \u001b[0mself\u001b[0m\u001b[0;34m.\u001b[0m\u001b[0mblock\u001b[0m\u001b[0;34m[\u001b[0m\u001b[0;36m2\u001b[0m\u001b[0;34m]\u001b[0m\u001b[0;34m\u001b[0m\u001b[0;34m\u001b[0m\u001b[0m\n\u001b[1;32m     14\u001b[0m         \u001b[0;32melse\u001b[0m\u001b[0;34m:\u001b[0m\u001b[0;34m\u001b[0m\u001b[0;34m\u001b[0m\u001b[0m\n\u001b[0;32m---> 15\u001b[0;31m             \u001b[0;32mreturn\u001b[0m \u001b[0mself\u001b[0m\u001b[0;34m.\u001b[0m\u001b[0mgetPoint\u001b[0m\u001b[0;34m(\u001b[0m\u001b[0mx\u001b[0m\u001b[0;34m)\u001b[0m\u001b[0;34m\u001b[0m\u001b[0;34m\u001b[0m\u001b[0m\n\u001b[0m",
      "\u001b[0;32m/var/folders/2p/t8yvxfjs0_sfvl1djjg08z_r0000gp/T/ipykernel_48935/3292235939.py\u001b[0m in \u001b[0;36mgetPoint\u001b[0;34m(self, x)\u001b[0m\n\u001b[1;32m      7\u001b[0m     \u001b[0;32mdef\u001b[0m \u001b[0mgetPoint\u001b[0m\u001b[0;34m(\u001b[0m\u001b[0mself\u001b[0m\u001b[0;34m,\u001b[0m \u001b[0mx\u001b[0m\u001b[0;34m)\u001b[0m\u001b[0;34m:\u001b[0m\u001b[0;34m\u001b[0m\u001b[0;34m\u001b[0m\u001b[0m\n\u001b[1;32m      8\u001b[0m         \u001b[0mc\u001b[0m \u001b[0;34m=\u001b[0m \u001b[0mself\u001b[0m\u001b[0;34m.\u001b[0m\u001b[0msymbol_map\u001b[0m\u001b[0;34m[\u001b[0m\u001b[0mself\u001b[0m\u001b[0;34m.\u001b[0m\u001b[0mdata\u001b[0m\u001b[0;34m[\u001b[0m\u001b[0mx\u001b[0m\u001b[0;34m]\u001b[0m\u001b[0;34m]\u001b[0m\u001b[0;34m\u001b[0m\u001b[0;34m\u001b[0m\u001b[0m\n\u001b[0;32m----> 9\u001b[0;31m         \u001b[0;32mreturn\u001b[0m \u001b[0mself\u001b[0m\u001b[0;34m.\u001b[0m\u001b[0mcsource\u001b[0m\u001b[0;34m.\u001b[0m\u001b[0mpoint\u001b[0m\u001b[0;34m(\u001b[0m\u001b[0mint\u001b[0m\u001b[0;34m(\u001b[0m\u001b[0mc\u001b[0m\u001b[0;34m*\u001b[0m\u001b[0mself\u001b[0m\u001b[0;34m.\u001b[0m\u001b[0mstep\u001b[0m\u001b[0;34m)\u001b[0m\u001b[0;34m)\u001b[0m\u001b[0;34m\u001b[0m\u001b[0;34m\u001b[0m\u001b[0m\n\u001b[0m",
      "\u001b[0;32m~/Documents/Anaconda-jupyter/scurve-master/scurve/hilbert.py\u001b[0m in \u001b[0;36mpoint\u001b[0;34m(self, idx)\u001b[0m\n\u001b[1;32m    110\u001b[0m \u001b[0;34m\u001b[0m\u001b[0m\n\u001b[1;32m    111\u001b[0m     \u001b[0;32mdef\u001b[0m \u001b[0mpoint\u001b[0m\u001b[0;34m(\u001b[0m\u001b[0mself\u001b[0m\u001b[0;34m,\u001b[0m \u001b[0midx\u001b[0m\u001b[0;34m)\u001b[0m\u001b[0;34m:\u001b[0m\u001b[0;34m\u001b[0m\u001b[0;34m\u001b[0m\u001b[0m\n\u001b[0;32m--> 112\u001b[0;31m         \u001b[0;32mreturn\u001b[0m \u001b[0mhilbert_point\u001b[0m\u001b[0;34m(\u001b[0m\u001b[0mself\u001b[0m\u001b[0;34m.\u001b[0m\u001b[0mdimension\u001b[0m\u001b[0;34m,\u001b[0m \u001b[0mself\u001b[0m\u001b[0;34m.\u001b[0m\u001b[0morder\u001b[0m\u001b[0;34m,\u001b[0m \u001b[0midx\u001b[0m\u001b[0;34m)\u001b[0m\u001b[0;34m\u001b[0m\u001b[0;34m\u001b[0m\u001b[0m\n\u001b[0m\u001b[1;32m    113\u001b[0m \u001b[0;34m\u001b[0m\u001b[0m\n",
      "\u001b[0;32m~/Documents/Anaconda-jupyter/scurve-master/scurve/hilbert.py\u001b[0m in \u001b[0;36mhilbert_point\u001b[0;34m(dimension, order, h)\u001b[0m\n\u001b[1;32m     57\u001b[0m         \u001b[0;32mfor\u001b[0m \u001b[0mj\u001b[0m \u001b[0;32min\u001b[0m \u001b[0mrange\u001b[0m\u001b[0;34m(\u001b[0m\u001b[0mdimension\u001b[0m\u001b[0;34m)\u001b[0m\u001b[0;34m:\u001b[0m\u001b[0;34m\u001b[0m\u001b[0;34m\u001b[0m\u001b[0m\n\u001b[1;32m     58\u001b[0m             \u001b[0mb\u001b[0m \u001b[0;34m=\u001b[0m \u001b[0mutils\u001b[0m\u001b[0;34m.\u001b[0m\u001b[0mbitrange\u001b[0m\u001b[0;34m(\u001b[0m\u001b[0ml\u001b[0m\u001b[0;34m,\u001b[0m \u001b[0mdimension\u001b[0m\u001b[0;34m,\u001b[0m \u001b[0mj\u001b[0m\u001b[0;34m,\u001b[0m \u001b[0mj\u001b[0m\u001b[0;34m+\u001b[0m\u001b[0;36m1\u001b[0m\u001b[0;34m)\u001b[0m\u001b[0;34m\u001b[0m\u001b[0;34m\u001b[0m\u001b[0m\n\u001b[0;32m---> 59\u001b[0;31m             \u001b[0mp\u001b[0m\u001b[0;34m[\u001b[0m\u001b[0mj\u001b[0m\u001b[0;34m]\u001b[0m \u001b[0;34m=\u001b[0m \u001b[0mutils\u001b[0m\u001b[0;34m.\u001b[0m\u001b[0msetbit\u001b[0m\u001b[0;34m(\u001b[0m\u001b[0mp\u001b[0m\u001b[0;34m[\u001b[0m\u001b[0mj\u001b[0m\u001b[0;34m]\u001b[0m\u001b[0;34m,\u001b[0m \u001b[0morder\u001b[0m\u001b[0;34m,\u001b[0m \u001b[0mi\u001b[0m\u001b[0;34m,\u001b[0m \u001b[0mb\u001b[0m\u001b[0;34m)\u001b[0m\u001b[0;34m\u001b[0m\u001b[0;34m\u001b[0m\u001b[0m\n\u001b[0m\u001b[1;32m     60\u001b[0m         \u001b[0me\u001b[0m \u001b[0;34m=\u001b[0m \u001b[0me\u001b[0m \u001b[0;34m^\u001b[0m \u001b[0mutils\u001b[0m\u001b[0;34m.\u001b[0m\u001b[0mlrot\u001b[0m\u001b[0;34m(\u001b[0m\u001b[0mentry\u001b[0m\u001b[0;34m(\u001b[0m\u001b[0mw\u001b[0m\u001b[0;34m)\u001b[0m\u001b[0;34m,\u001b[0m \u001b[0md\u001b[0m\u001b[0;34m+\u001b[0m\u001b[0;36m1\u001b[0m\u001b[0;34m,\u001b[0m \u001b[0mdimension\u001b[0m\u001b[0;34m)\u001b[0m\u001b[0;34m\u001b[0m\u001b[0;34m\u001b[0m\u001b[0m\n\u001b[1;32m     61\u001b[0m         \u001b[0md\u001b[0m \u001b[0;34m=\u001b[0m \u001b[0;34m(\u001b[0m\u001b[0md\u001b[0m \u001b[0;34m+\u001b[0m \u001b[0mdirection\u001b[0m\u001b[0;34m(\u001b[0m\u001b[0mw\u001b[0m\u001b[0;34m,\u001b[0m \u001b[0mdimension\u001b[0m\u001b[0;34m)\u001b[0m \u001b[0;34m+\u001b[0m \u001b[0;36m1\u001b[0m\u001b[0;34m)\u001b[0m\u001b[0;34m%\u001b[0m\u001b[0mdimension\u001b[0m\u001b[0;34m\u001b[0m\u001b[0;34m\u001b[0m\u001b[0m\n",
      "\u001b[0;31mKeyboardInterrupt\u001b[0m: "
     ]
    }
   ],
   "source": [
    "start_time = time.time()\n",
    "\n",
    "generate_images(df, args['mapp'], args['size'], args['block'], args['prog'])\n",
    "\n",
    "timee = (time.time() - start_time)\n",
    "print(\"--- %s seconds ---\" %timee)"
   ]
  },
  {
   "cell_type": "code",
   "execution_count": 242,
   "id": "620772f7-e906-493d-863d-ee4b321c7887",
   "metadata": {
    "tags": []
   },
   "outputs": [
    {
     "data": {
      "text/html": [
       "<div>\n",
       "<style scoped>\n",
       "    .dataframe tbody tr th:only-of-type {\n",
       "        vertical-align: middle;\n",
       "    }\n",
       "\n",
       "    .dataframe tbody tr th {\n",
       "        vertical-align: top;\n",
       "    }\n",
       "\n",
       "    .dataframe thead th {\n",
       "        text-align: right;\n",
       "    }\n",
       "</style>\n",
       "<table border=\"1\" class=\"dataframe\">\n",
       "  <thead>\n",
       "    <tr style=\"text-align: right;\">\n",
       "      <th></th>\n",
       "      <th>File</th>\n",
       "      <th>BinaryImage</th>\n",
       "      <th>Phishing</th>\n",
       "    </tr>\n",
       "  </thead>\n",
       "  <tbody>\n",
       "    <tr>\n",
       "      <th>0</th>\n",
       "      <td>4_cryptositeslist_com_zx_spectrocoin.html</td>\n",
       "      <td>None</td>\n",
       "      <td>0</td>\n",
       "    </tr>\n",
       "    <tr>\n",
       "      <th>1</th>\n",
       "      <td>6_xero_com.html</td>\n",
       "      <td>None</td>\n",
       "      <td>0</td>\n",
       "    </tr>\n",
       "    <tr>\n",
       "      <th>2</th>\n",
       "      <td>7470384.html</td>\n",
       "      <td>None</td>\n",
       "      <td>1</td>\n",
       "    </tr>\n",
       "    <tr>\n",
       "      <th>3</th>\n",
       "      <td>7459915.html</td>\n",
       "      <td>None</td>\n",
       "      <td>1</td>\n",
       "    </tr>\n",
       "    <tr>\n",
       "      <th>4</th>\n",
       "      <td>3_forbes_com.html</td>\n",
       "      <td>None</td>\n",
       "      <td>0</td>\n",
       "    </tr>\n",
       "    <tr>\n",
       "      <th>...</th>\n",
       "      <td>...</td>\n",
       "      <td>...</td>\n",
       "      <td>...</td>\n",
       "    </tr>\n",
       "    <tr>\n",
       "      <th>495</th>\n",
       "      <td>6_ushistory_org.html</td>\n",
       "      <td>None</td>\n",
       "      <td>0</td>\n",
       "    </tr>\n",
       "    <tr>\n",
       "      <th>496</th>\n",
       "      <td>1_astrology_com.html</td>\n",
       "      <td>None</td>\n",
       "      <td>0</td>\n",
       "    </tr>\n",
       "    <tr>\n",
       "      <th>497</th>\n",
       "      <td>7459972.html</td>\n",
       "      <td>None</td>\n",
       "      <td>1</td>\n",
       "    </tr>\n",
       "    <tr>\n",
       "      <th>498</th>\n",
       "      <td>7468701.html</td>\n",
       "      <td>None</td>\n",
       "      <td>1</td>\n",
       "    </tr>\n",
       "    <tr>\n",
       "      <th>499</th>\n",
       "      <td>4_cryptomining-blog_com_.html</td>\n",
       "      <td>None</td>\n",
       "      <td>0</td>\n",
       "    </tr>\n",
       "  </tbody>\n",
       "</table>\n",
       "<p>500 rows × 3 columns</p>\n",
       "</div>"
      ],
      "text/plain": [
       "                                          File BinaryImage Phishing\n",
       "0    4_cryptositeslist_com_zx_spectrocoin.html        None        0\n",
       "1                              6_xero_com.html        None        0\n",
       "2                                 7470384.html        None        1\n",
       "3                                 7459915.html        None        1\n",
       "4                            3_forbes_com.html        None        0\n",
       "..                                         ...         ...      ...\n",
       "495                       6_ushistory_org.html        None        0\n",
       "496                       1_astrology_com.html        None        0\n",
       "497                               7459972.html        None        1\n",
       "498                               7468701.html        None        1\n",
       "499              4_cryptomining-blog_com_.html        None        0\n",
       "\n",
       "[500 rows x 3 columns]"
      ]
     },
     "execution_count": 242,
     "metadata": {},
     "output_type": "execute_result"
    }
   ],
   "source": []
  },
  {
   "cell_type": "code",
   "execution_count": 239,
   "id": "ed979aa7-10e6-4905-94be-376e71b68623",
   "metadata": {
    "tags": []
   },
   "outputs": [
    {
     "name": "stdout",
     "output_type": "stream",
     "text": [
      "None\n"
     ]
    }
   ],
   "source": [
    "aux_l = []\n",
    "for file in df.values:\n",
    "    print(file[1])\n",
    "        \n",
    "    break"
   ]
  },
  {
   "cell_type": "code",
   "execution_count": null,
   "id": "5f90ca64-1221-48a6-b11e-9f65c5dc7d71",
   "metadata": {},
   "outputs": [],
   "source": []
  },
  {
   "cell_type": "code",
   "execution_count": 215,
   "id": "8bdb96b3-0172-4eab-837b-3359aab9b674",
   "metadata": {},
   "outputs": [
    {
     "data": {
      "text/html": [
       "<div>\n",
       "<style scoped>\n",
       "    .dataframe tbody tr th:only-of-type {\n",
       "        vertical-align: middle;\n",
       "    }\n",
       "\n",
       "    .dataframe tbody tr th {\n",
       "        vertical-align: top;\n",
       "    }\n",
       "\n",
       "    .dataframe thead th {\n",
       "        text-align: right;\n",
       "    }\n",
       "</style>\n",
       "<table border=\"1\" class=\"dataframe\">\n",
       "  <thead>\n",
       "    <tr style=\"text-align: right;\">\n",
       "      <th></th>\n",
       "      <th>File</th>\n",
       "      <th>BinaryImage</th>\n",
       "      <th>Phishing</th>\n",
       "    </tr>\n",
       "  </thead>\n",
       "  <tbody>\n",
       "    <tr>\n",
       "      <th>0</th>\n",
       "      <td>7458203.html</td>\n",
       "      <td>None</td>\n",
       "      <td>1</td>\n",
       "    </tr>\n",
       "    <tr>\n",
       "      <th>1</th>\n",
       "      <td>7466595.html</td>\n",
       "      <td>None</td>\n",
       "      <td>1</td>\n",
       "    </tr>\n",
       "    <tr>\n",
       "      <th>2</th>\n",
       "      <td>7468798.html</td>\n",
       "      <td>None</td>\n",
       "      <td>1</td>\n",
       "    </tr>\n",
       "    <tr>\n",
       "      <th>3</th>\n",
       "      <td>6_google_com_my.html</td>\n",
       "      <td>None</td>\n",
       "      <td>0</td>\n",
       "    </tr>\n",
       "    <tr>\n",
       "      <th>4</th>\n",
       "      <td>6_whowhatwear_com.html</td>\n",
       "      <td>None</td>\n",
       "      <td>0</td>\n",
       "    </tr>\n",
       "    <tr>\n",
       "      <th>...</th>\n",
       "      <td>...</td>\n",
       "      <td>...</td>\n",
       "      <td>...</td>\n",
       "    </tr>\n",
       "    <tr>\n",
       "      <th>495</th>\n",
       "      <td>6_bungie_net.html</td>\n",
       "      <td>None</td>\n",
       "      <td>0</td>\n",
       "    </tr>\n",
       "    <tr>\n",
       "      <th>496</th>\n",
       "      <td>7454556.html</td>\n",
       "      <td>None</td>\n",
       "      <td>1</td>\n",
       "    </tr>\n",
       "    <tr>\n",
       "      <th>497</th>\n",
       "      <td>7454535.html</td>\n",
       "      <td>None</td>\n",
       "      <td>1</td>\n",
       "    </tr>\n",
       "    <tr>\n",
       "      <th>498</th>\n",
       "      <td>5_att_net.html</td>\n",
       "      <td>None</td>\n",
       "      <td>0</td>\n",
       "    </tr>\n",
       "    <tr>\n",
       "      <th>499</th>\n",
       "      <td>4_apps_apple_com_us_app_dogecoin-wallet-by-fre...</td>\n",
       "      <td>None</td>\n",
       "      <td>0</td>\n",
       "    </tr>\n",
       "  </tbody>\n",
       "</table>\n",
       "<p>500 rows × 3 columns</p>\n",
       "</div>"
      ],
      "text/plain": [
       "                                                  File BinaryImage Phishing\n",
       "0                                         7458203.html        None        1\n",
       "1                                         7466595.html        None        1\n",
       "2                                         7468798.html        None        1\n",
       "3                                 6_google_com_my.html        None        0\n",
       "4                               6_whowhatwear_com.html        None        0\n",
       "..                                                 ...         ...      ...\n",
       "495                                  6_bungie_net.html        None        0\n",
       "496                                       7454556.html        None        1\n",
       "497                                       7454535.html        None        1\n",
       "498                                     5_att_net.html        None        0\n",
       "499  4_apps_apple_com_us_app_dogecoin-wallet-by-fre...        None        0\n",
       "\n",
       "[500 rows x 3 columns]"
      ]
     },
     "execution_count": 215,
     "metadata": {},
     "output_type": "execute_result"
    }
   ],
   "source": []
  },
  {
   "cell_type": "code",
   "execution_count": null,
   "id": "7886a918-8f23-4d48-82c1-7394cfe39178",
   "metadata": {},
   "outputs": [],
   "source": [
    "#Set arguments required\n",
    "\n",
    "base = os.path.basename(d)\n",
    "if \".\" in base:\n",
    "    base, _ = base.rsplit(\".\", 1)\n",
    "\n",
    "args = {map: \"hilbert\"\n",
    "        size: 128\n",
    "        csource: ColorClass(d, block)\n",
    "        dst: \"\" + base + \"\" + \".png\"\n",
    "        }\n",
    "#----------------------\n",
    "map = \"hilbert\"\n",
    "size = 128\n",
    "block = None\n",
    "d = '/Users/joao.ferreira/Documents/Anaconda-jupyter/archive/training/NotPhish/0_550909_com.html'\n",
    "block = None\n",
    "csource = ColorClass(d, block) # problema\n",
    "base = os.path.basename(d)\n",
    "if \".\" in base:\n",
    "    base, _ = base.rsplit(\".\", 1)\n",
    "dst = base + \"\" + \".png\"\n",
    "prog = progress.Progress(None)"
   ]
  },
  {
   "cell_type": "code",
   "execution_count": 188,
   "id": "3c75e26c-94ce-4010-b07b-5b89831a8eb8",
   "metadata": {},
   "outputs": [],
   "source": [
    "base = os.path.basename(d)"
   ]
  },
  {
   "cell_type": "code",
   "execution_count": 189,
   "id": "92b069e3-e684-4357-9d0e-fbc00aaa652c",
   "metadata": {},
   "outputs": [
    {
     "data": {
      "text/plain": [
       "'0_afip_gob_ar.html'"
      ]
     },
     "execution_count": 189,
     "metadata": {},
     "output_type": "execute_result"
    }
   ],
   "source": [
    "base"
   ]
  },
  {
   "cell_type": "code",
   "execution_count": 257,
   "id": "47edf8b8-a10c-4422-a12c-b20ee21e4d49",
   "metadata": {
    "tags": []
   },
   "outputs": [],
   "source": [
    "def try_utf8(data):\n",
    "    \"Returns a Unicode object on success, or None on failure\"\n",
    "    try:\n",
    "       return data.decode('utf-8')\n",
    "    except UnicodeDecodeError:\n",
    "       return None"
   ]
  },
  {
   "cell_type": "code",
   "execution_count": 273,
   "id": "95bb22b6-04ee-4699-917f-5190cb0c73a2",
   "metadata": {},
   "outputs": [],
   "source": [
    "file = open('/Users/joao.ferreira/Documents/Anaconda-jupyter/archive/training/Phish/7453961.html', 'rb')\n",
    "data = file.read()\n",
    "udata = try_utf8(data)"
   ]
  },
  {
   "cell_type": "code",
   "execution_count": 275,
   "id": "059ba2e9-cdd0-4e31-8a19-d34851f26f7c",
   "metadata": {},
   "outputs": [
    {
     "name": "stdout",
     "output_type": "stream",
     "text": [
      "None\n"
     ]
    }
   ],
   "source": [
    "print(udata)"
   ]
  },
  {
   "cell_type": "code",
   "execution_count": 11,
   "id": "7a8e51ec-49ec-457e-801a-f6e30b1e78cc",
   "metadata": {},
   "outputs": [],
   "source": [
    "args = {'mapp': \"hilbert\", #Sets the static arguments\n",
    "        'size': 128,\n",
    "        'block': None,\n",
    "        'prog': progress.Progress(None)\n",
    "        }"
   ]
  },
  {
   "cell_type": "code",
   "execution_count": 40,
   "id": "ccefc147-c489-471c-8d62-00628e838b69",
   "metadata": {},
   "outputs": [],
   "source": [
    "d = '/Users/joao.ferreira/Documents/Anaconda-jupyter/archive/training/NotPhish/0_550909_com.html'\n",
    "prog = args['prog']\n",
    "size = args['size']\n",
    "map = args['mapp']\n",
    "\n",
    "csource = ColorHilbert(open(d).read(), args['block'])\n",
    "prog.set_target((size**2)*4)\n",
    "map = scurve.fromSize(map, 2, size**2)\n",
    "c = Image.new(\"RGB\", (size, size*4))\n",
    "cd = ImageDraw.Draw(c)\n",
    "step = len(csource)/float(len(map)*4)\n",
    "\n",
    "sofar = 0\n",
    "for quad in range(4):\n",
    "    for i, p in enumerate(map):\n",
    "        off = (i + (quad * size**2))\n",
    "        color = csource.point(\n",
    "                    int(off * step)\n",
    "                )\n",
    "        x, y = tuple(p)\n",
    "        cd.point(\n",
    "            (x, y + (size * quad)),\n",
    "            fill=tuple(color)\n",
    "        )\n",
    "        if not sofar%100:\n",
    "            prog.tick(sofar)\n",
    "        sofar += 1\n",
    "\n",
    "\n",
    "#drawmap_unrolled(mapp, size, csource, dst, prog)"
   ]
  },
  {
   "cell_type": "code",
   "execution_count": null,
   "id": "3358eda3-3f7b-4c25-b33e-a2b309285889",
   "metadata": {
    "tags": []
   },
   "outputs": [],
   "source": [
    "im = imageio.imread(c)"
   ]
  },
  {
   "cell_type": "code",
   "execution_count": null,
   "id": "b76ada25-f3ef-4ebf-b419-927f9af760d1",
   "metadata": {},
   "outputs": [],
   "source": [
    "prog.set_target((size**2)*4)\n",
    "map = scurve.fromSize(map, 2, size**2)\n",
    "c = Image.new(\"RGB\", (size, size*4))\n",
    "cd = ImageDraw.Draw(c)\n",
    "step = len(csource)/float(len(map)*4)\n",
    "\n",
    "sofar = 0\n",
    "for quad in range(4):\n",
    "    for i, p in enumerate(map):\n",
    "        off = (i + (quad * size**2))\n",
    "        color = csource.point(\n",
    "                    int(off * step)\n",
    "                )\n",
    "        x, y = tuple(p)\n",
    "        cd.point(\n",
    "            (x, y + (size * quad)),\n",
    "            fill=tuple(color)\n",
    "        )\n",
    "        if not sofar%100:\n",
    "            prog.tick(sofar)\n",
    "        sofar += 1\n",
    "c.save(name)\n"
   ]
  },
  {
   "cell_type": "code",
   "execution_count": 43,
   "id": "f15237f2-15bc-44fc-a70c-847ea608f5d5",
   "metadata": {},
   "outputs": [],
   "source": [
    "import imageio.v3 as imageio\n",
    "\n",
    "im = imageio.imread('/Users/joao.ferreira/Documents/Anaconda-jupyter/archive/training/Binary_images/0_canlidoviz_com.png')\n"
   ]
  },
  {
   "cell_type": "code",
   "execution_count": 44,
   "id": "5f22227e-f135-4868-ae5d-d5bdc7ea6822",
   "metadata": {},
   "outputs": [],
   "source": [
    "# Reads all images in a given path\n",
    "import imageio.v3 as iio\n",
    "from pathlib import Path\n",
    "\n",
    "images = list()\n",
    "for file in Path(\"/Users/joao.ferreira/Documents/Anaconda-jupyter/archive/training/Binary_images\").iterdir():\n",
    "    if not file.is_file():\n",
    "        continue\n",
    "\n",
    "    images.append(iio.imread(file))"
   ]
  },
  {
   "cell_type": "code",
   "execution_count": 50,
   "id": "51795621-6ff3-4f1e-8548-57cb53714b59",
   "metadata": {},
   "outputs": [
    {
     "data": {
      "text/plain": [
       "array([[[120, 180,  15],\n",
       "        [ 30,  68,  51],\n",
       "        [196, 236, 177],\n",
       "        ...,\n",
       "        [ 30,  68,  51],\n",
       "        [207, 236, 241],\n",
       "        [202,  28, 161]],\n",
       "\n",
       "       [[ 32,  34,  13],\n",
       "        [ 32,  34,  13],\n",
       "        [189, 107, 217],\n",
       "        ...,\n",
       "        [189, 107, 217],\n",
       "        [239,  17, 241],\n",
       "        [ 76, 196, 195]],\n",
       "\n",
       "       [[188,  43,  61],\n",
       "        [150,  30, 195],\n",
       "        [ 24,  46, 125],\n",
       "        ...,\n",
       "        [150, 240, 195],\n",
       "        [210,  90, 221],\n",
       "        [150, 136,  75]],\n",
       "\n",
       "       ...,\n",
       "\n",
       "       [[189,  46, 228],\n",
       "        [189,  46, 228],\n",
       "        [133,  92, 200],\n",
       "        ...,\n",
       "        [ 52, 163,  74],\n",
       "        [196, 236, 177],\n",
       "        [239,  17, 241]],\n",
       "\n",
       "       [[ 30, 180,  60],\n",
       "        [135, 240, 136],\n",
       "        [170,  51, 170],\n",
       "        ...,\n",
       "        [ 32,  34,  13],\n",
       "        [227, 197,  81],\n",
       "        [125,  34,  40]],\n",
       "\n",
       "       [[153, 240,  34],\n",
       "        [135, 240, 136],\n",
       "        [125,  34,  40],\n",
       "        ...,\n",
       "        [213, 109,  89],\n",
       "        [244, 185, 144],\n",
       "        [207, 236, 241]]], dtype=uint8)"
      ]
     },
     "execution_count": 50,
     "metadata": {},
     "output_type": "execute_result"
    }
   ],
   "source": []
  }
 ],
 "metadata": {
  "kernelspec": {
   "display_name": "Python 3 (ipykernel)",
   "language": "python",
   "name": "python3"
  },
  "language_info": {
   "codemirror_mode": {
    "name": "ipython",
    "version": 3
   },
   "file_extension": ".py",
   "mimetype": "text/x-python",
   "name": "python",
   "nbconvert_exporter": "python",
   "pygments_lexer": "ipython3",
   "version": "3.9.13"
  }
 },
 "nbformat": 4,
 "nbformat_minor": 5
}
